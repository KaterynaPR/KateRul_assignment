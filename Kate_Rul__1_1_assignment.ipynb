{
  "cells": [
    {
      "cell_type": "markdown",
      "metadata": {
        "id": "view-in-github",
        "colab_type": "text"
      },
      "source": [
        "<a href=\"https://colab.research.google.com/github/KaterynaPR/KateRul_assignment/blob/main/Kate_Rul__1_1_assignment.ipynb\" target=\"_parent\"><img src=\"https://colab.research.google.com/assets/colab-badge.svg\" alt=\"Open In Colab\"/></a>"
      ]
    },
    {
      "cell_type": "markdown",
      "metadata": {
        "id": "oY7M_WqQy7zz"
      },
      "source": [
        "# Assignment 1.1\n",
        "\n",
        "> Replace all TODOs with your code. Do not change any other code."
      ]
    },
    {
      "cell_type": "markdown",
      "metadata": {
        "id": "Jz8SYjAz0N8D"
      },
      "source": [
        "## Basics"
      ]
    },
    {
      "cell_type": "markdown",
      "metadata": {
        "id": "IHwd1Zzby7z1"
      },
      "source": [
        "### Task 1\n",
        "\n",
        "a. Write a program that prints the number 10.\n",
        "\n",
        "b. Declare another variable `res2` with value 10. Print IDs of both.\n",
        "\n",
        "c. Declare two other variables with the value 10000. Print IDs of both."
      ]
    },
    {
      "cell_type": "code",
      "execution_count": null,
      "metadata": {
        "id": "UfB0dnXHy7z2",
        "tags": [
          "task_1a"
        ],
        "colab": {
          "base_uri": "https://localhost:8080/"
        },
        "outputId": "b722133a-1493-4105-ff4b-f43e37daaff4"
      },
      "outputs": [
        {
          "output_type": "stream",
          "name": "stdout",
          "text": [
            "10\n"
          ]
        }
      ],
      "source": [
        "# TODO a\n",
        "\n",
        "res = 10\n",
        "\n",
        "print(res)"
      ]
    },
    {
      "cell_type": "code",
      "source": [
        "res2 = 10\n",
        "\n",
        "print(res2)"
      ],
      "metadata": {
        "colab": {
          "base_uri": "https://localhost:8080/"
        },
        "id": "eGULwJMzxPEi",
        "outputId": "31f7a276-a854-44eb-cf69-e6531ea6bb35"
      },
      "execution_count": null,
      "outputs": [
        {
          "output_type": "stream",
          "name": "stdout",
          "text": [
            "10\n"
          ]
        }
      ]
    },
    {
      "cell_type": "code",
      "execution_count": null,
      "metadata": {
        "id": "VtHGOji2zOfq",
        "tags": [
          "task_1b"
        ],
        "colab": {
          "base_uri": "https://localhost:8080/"
        },
        "outputId": "6c216d8a-0d55-40c0-b097-946498e63137"
      },
      "outputs": [
        {
          "output_type": "stream",
          "name": "stdout",
          "text": [
            "139752933278224 139752933278224\n"
          ]
        }
      ],
      "source": [
        "# TODO b\n",
        "\n",
        "print(id(res), id(res2))"
      ]
    },
    {
      "cell_type": "code",
      "execution_count": null,
      "metadata": {
        "id": "c-ca4slRzO92",
        "tags": [
          "task_1c"
        ],
        "colab": {
          "base_uri": "https://localhost:8080/"
        },
        "outputId": "34cd4351-5eb3-4c8b-f517-80b792ba14f8"
      },
      "outputs": [
        {
          "output_type": "stream",
          "name": "stdout",
          "text": [
            "136867498102896 136867498102768\n"
          ]
        }
      ],
      "source": [
        "# TODO c\n",
        "res3 = 10000\n",
        "res4 = 10000\n",
        "print(id(res3), id(res4))"
      ]
    },
    {
      "cell_type": "markdown",
      "metadata": {
        "id": "lL-ELM-Ay7z2"
      },
      "source": [
        "### Task 2\n",
        "\n",
        "Now, write a program that gets a name from a user and prints \"Hello, <name>\"."
      ]
    },
    {
      "cell_type": "code",
      "execution_count": null,
      "metadata": {
        "id": "cibiSsjry7z3",
        "tags": [
          "task_2"
        ],
        "colab": {
          "base_uri": "https://localhost:8080/"
        },
        "outputId": "d09b6fbd-4f61-4a59-e065-77818e2df814"
      },
      "outputs": [
        {
          "output_type": "stream",
          "name": "stdout",
          "text": [
            "Kate\n",
            "Hello, Kate\n"
          ]
        }
      ],
      "source": [
        "name = input()\n",
        "\n",
        "print('Hello,', name)"
      ]
    },
    {
      "cell_type": "markdown",
      "metadata": {
        "id": "oGnwHD6h0SVW"
      },
      "source": [
        "## Variables"
      ]
    },
    {
      "cell_type": "markdown",
      "metadata": {
        "id": "saWNjvtKy7z3"
      },
      "source": [
        "### Task 3\n",
        "\n",
        "Write a program that gets two int variables and swaps their values. Do it in 3 different ways."
      ]
    },
    {
      "cell_type": "code",
      "execution_count": null,
      "metadata": {
        "id": "V0T9Dybqy7z3",
        "tags": [
          "task_4a"
        ],
        "colab": {
          "base_uri": "https://localhost:8080/"
        },
        "outputId": "46de054c-41d3-4c20-d1c7-bc263e4b7464"
      },
      "outputs": [
        {
          "output_type": "stream",
          "name": "stdout",
          "text": [
            "Option 1\n",
            "a = 5 b = 3\n"
          ]
        }
      ],
      "source": [
        "print('Option 1')\n",
        "a = 3\n",
        "b = 5\n",
        "\n",
        "a = a + b\n",
        "b = a - b\n",
        "a = a - b\n",
        "\n",
        "print('a =', a, 'b =', b)  # should print \"a = 5 b = 3\""
      ]
    },
    {
      "cell_type": "code",
      "execution_count": null,
      "metadata": {
        "id": "cs5yNlMDy7z3",
        "tags": [
          "task_4b"
        ],
        "colab": {
          "base_uri": "https://localhost:8080/"
        },
        "outputId": "201e3a31-bc8f-4ffb-c168-f29a03e55eff"
      },
      "outputs": [
        {
          "output_type": "stream",
          "name": "stdout",
          "text": [
            "Option 2\n",
            "a = 5 b = 3\n"
          ]
        }
      ],
      "source": [
        "print('Option 2')\n",
        "a = 3\n",
        "b = 5\n",
        "\n",
        "a = a * b\n",
        "b = a // b\n",
        "a = a // b\n",
        "\n",
        "print('a =', a, 'b =', b)  # should print \"a = 5 b = 3\""
      ]
    },
    {
      "cell_type": "code",
      "execution_count": null,
      "metadata": {
        "id": "iCRsMwrsy7z3",
        "tags": [
          "task_4c"
        ],
        "colab": {
          "base_uri": "https://localhost:8080/"
        },
        "outputId": "be2c5288-541d-40dd-8d16-87ec84331c38"
      },
      "outputs": [
        {
          "output_type": "stream",
          "name": "stdout",
          "text": [
            "Option 3\n",
            "a = 5 b = 3\n"
          ]
        }
      ],
      "source": [
        "print('Option 3')\n",
        "a = 3\n",
        "b = 5\n",
        "\n",
        "new_a = a\n",
        "a = b\n",
        "b = new_a\n",
        "\n",
        "print('a =', a, 'b =', b)  # should print \"a = 5 b = 3\""
      ]
    },
    {
      "cell_type": "markdown",
      "metadata": {
        "id": "5DzFkKwx0VI5"
      },
      "source": [
        "## Numbers"
      ]
    },
    {
      "cell_type": "markdown",
      "metadata": {
        "id": "nP0LlORsy7z4"
      },
      "source": [
        "### Task 4\n",
        "\n",
        "Write a program that gets two numbers from the user. Print to the console the maximum of these two variables."
      ]
    },
    {
      "cell_type": "code",
      "execution_count": null,
      "metadata": {
        "id": "RiIm_kUSy7z4",
        "tags": [
          "task_5"
        ],
        "colab": {
          "base_uri": "https://localhost:8080/"
        },
        "outputId": "bce04d03-4917-44e9-915c-ab12a2b563ce"
      },
      "outputs": [
        {
          "output_type": "stream",
          "name": "stdout",
          "text": [
            "First number: 12\n",
            "Second number: 15\n",
            "res = 15\n"
          ]
        }
      ],
      "source": [
        "a = input('First number: ')\n",
        "b = input('Second number: ')\n",
        "\n",
        "res = max(a, b)\n",
        "\n",
        "print('res =', res)"
      ]
    },
    {
      "cell_type": "markdown",
      "metadata": {
        "id": "hU1yDEnzy7z4"
      },
      "source": [
        "### Task 5\n",
        "\n",
        "You have two variables, `x1` and `x2`. Complete the program that calculates the following function:\n",
        "\n",
        "$$ f(x_1, x_2) = x_1 ^ {\\frac{x_2 - 1}{2}} $$"
      ]
    },
    {
      "cell_type": "code",
      "execution_count": null,
      "metadata": {
        "id": "8sOSsdKiy7z4",
        "tags": [
          "task_6"
        ],
        "colab": {
          "base_uri": "https://localhost:8080/"
        },
        "outputId": "228f7401-9be7-4482-ec9d-1f6483612e6d"
      },
      "outputs": [
        {
          "output_type": "stream",
          "name": "stdout",
          "text": [
            "res = 100\n"
          ]
        }
      ],
      "source": [
        "x1 = 10\n",
        "x2 = 5\n",
        "\n",
        "res = (x1 * x2) * 2\n",
        "\n",
        "print('res =', res)  # should be 100.0"
      ]
    },
    {
      "cell_type": "markdown",
      "metadata": {
        "id": "NbbRIcyqy7z4"
      },
      "source": [
        "### Task 6 (optional)\n",
        "\n",
        "You have a variable `x`, always a two-digit number (e.g., `10` or `57`). Complete the program that gets the last digit of this number (e.g., `10 -> 0`, `57 -> 7`)."
      ]
    },
    {
      "cell_type": "code",
      "execution_count": null,
      "metadata": {
        "id": "2K8klEkzy7z4",
        "tags": [
          "task_7"
        ],
        "colab": {
          "base_uri": "https://localhost:8080/"
        },
        "outputId": "2bcea55a-b93a-4b72-bc0d-f6a0775f078f"
      },
      "outputs": [
        {
          "output_type": "stream",
          "name": "stdout",
          "text": [
            "res = 7\n"
          ]
        }
      ],
      "source": [
        "x = 57\n",
        "\n",
        "res = x % 10\n",
        "\n",
        "print('res =', res)  # should be 7"
      ]
    }
  ],
  "metadata": {
    "colab": {
      "provenance": [],
      "include_colab_link": true
    },
    "kernelspec": {
      "display_name": "venv",
      "language": "python",
      "name": "python3"
    },
    "language_info": {
      "codemirror_mode": {
        "name": "ipython",
        "version": 3
      },
      "file_extension": ".py",
      "mimetype": "text/x-python",
      "name": "python",
      "nbconvert_exporter": "python",
      "pygments_lexer": "ipython3",
      "version": "3.9.6"
    },
    "orig_nbformat": 4
  },
  "nbformat": 4,
  "nbformat_minor": 0
}