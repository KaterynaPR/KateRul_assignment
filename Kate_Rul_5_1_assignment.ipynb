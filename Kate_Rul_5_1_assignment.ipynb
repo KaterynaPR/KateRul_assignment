{
  "cells": [
    {
      "cell_type": "markdown",
      "metadata": {
        "id": "view-in-github",
        "colab_type": "text"
      },
      "source": [
        "<a href=\"https://colab.research.google.com/github/KaterynaPR/KateRul_assignment/blob/main/Kate_Rul_5_1_assignment.ipynb\" target=\"_parent\"><img src=\"https://colab.research.google.com/assets/colab-badge.svg\" alt=\"Open In Colab\"/></a>"
      ]
    },
    {
      "cell_type": "markdown",
      "metadata": {
        "id": "-89_Z_je0cfL"
      },
      "source": [
        "# Assignment 5.1\n",
        "\n",
        "> Replace all TODOs with your code.\n",
        ">\n",
        "> Do not change any other code and do not add/remove cells!"
      ]
    },
    {
      "cell_type": "markdown",
      "metadata": {
        "id": "w6E-GxTB0j4M"
      },
      "source": [
        "## Files"
      ]
    },
    {
      "cell_type": "markdown",
      "metadata": {
        "id": "iEwuf_DP0cfM"
      },
      "source": [
        "### Task 1\n",
        "\n",
        "Create a new file named \"hello.txt\" and write to it \"Hello, world!\"."
      ]
    },
    {
      "cell_type": "code",
      "execution_count": 2,
      "metadata": {
        "id": "IWVOCWxx0cfM",
        "tags": [
          "task_1"
        ]
      },
      "outputs": [],
      "source": [
        "with open('hello.txt', 'w') as file:\n",
        "  file.write('Hello, world!')"
      ]
    },
    {
      "cell_type": "markdown",
      "metadata": {
        "id": "2z8HqsaK0cfN"
      },
      "source": [
        "### Task 2\n",
        "\n",
        "Open the file \"hello.txt\" and rewrite it with a random integer from the range [1, 10]."
      ]
    },
    {
      "cell_type": "code",
      "execution_count": 3,
      "metadata": {
        "id": "kva_9ycA0cfN",
        "tags": [
          "task_2"
        ],
        "colab": {
          "base_uri": "https://localhost:8080/"
        },
        "outputId": "692a0949-045e-4b93-d51c-5aeede726478"
      },
      "outputs": [
        {
          "output_type": "stream",
          "name": "stdout",
          "text": [
            "9\n"
          ]
        }
      ],
      "source": [
        "import random\n",
        "\n",
        "random_integer = random.randint(1, 10)\n",
        "with open('hello.txt', 'w') as file:\n",
        "  file.write(str(random_integer))\n",
        "\n",
        "print(random_integer)"
      ]
    },
    {
      "cell_type": "markdown",
      "metadata": {
        "id": "IqjW7SGS0cfN"
      },
      "source": [
        "### Task 3\n",
        "\n",
        "Open file \"hello.txt\" and read the number from it to variable `n`. Now append `n` upper-case letters starting with \"A\", \"B\", ... to the file."
      ]
    },
    {
      "cell_type": "code",
      "execution_count": 4,
      "metadata": {
        "id": "p83RQvA40cfN",
        "tags": [
          "task_3"
        ],
        "colab": {
          "base_uri": "https://localhost:8080/"
        },
        "outputId": "7fed8588-b6bf-499c-dafa-ea8d6af16a0c"
      },
      "outputs": [
        {
          "output_type": "stream",
          "name": "stdout",
          "text": [
            "9\n",
            "ABCDEFGHI\n"
          ]
        }
      ],
      "source": [
        "import string\n",
        "\n",
        "with open('hello.txt', 'r') as file:\n",
        "  n = int(file.read().strip())\n",
        "letters_to_append = ''.join(string.ascii_uppercase[:n])\n",
        "\n",
        "with open('hello.txt', 'a') as file:\n",
        "  file.write(letters_to_append)\n",
        "\n",
        "print(n)\n",
        "print(letters_to_append)"
      ]
    },
    {
      "cell_type": "markdown",
      "metadata": {
        "id": "fceBNTpUnip6"
      },
      "source": [
        "### Task 4\n",
        "\n",
        "Now open this file again and print to console its content."
      ]
    },
    {
      "cell_type": "code",
      "execution_count": 5,
      "metadata": {
        "id": "VsoALrbBnsjs",
        "tags": [
          "task_4"
        ],
        "colab": {
          "base_uri": "https://localhost:8080/"
        },
        "outputId": "c4a63382-ea8a-467d-8c22-a0bfd29335d1"
      },
      "outputs": [
        {
          "output_type": "stream",
          "name": "stdout",
          "text": [
            "9ABCDEFGHI\n"
          ]
        }
      ],
      "source": [
        "with open('hello.txt', 'r') as file:\n",
        "  content = file.read()\n",
        "print(content)"
      ]
    },
    {
      "cell_type": "markdown",
      "metadata": {
        "id": "cBs-hn5nEvup"
      },
      "source": [
        "## CSV"
      ]
    },
    {
      "cell_type": "markdown",
      "metadata": {
        "id": "XysWADCIEvuq"
      },
      "source": [
        "### Task 5\n",
        "\n",
        "You have some warehouse data stored in the `warehouse` list. You want to persist this data to the disk in CSV format.\n",
        "\n",
        "Create a file `warehouse_v1.csv` and write the contents of `warehouse` list to it. Use the same methods for working with files as in previous exercises (i.e., `file.write()`).\n",
        "\n",
        "The file should look like this:\n",
        "```csv\n",
        "product,price,quantity\n",
        "Apple,0.5,10\n",
        "...\n",
        "```"
      ]
    },
    {
      "cell_type": "code",
      "execution_count": 6,
      "metadata": {
        "tags": [
          "task_5"
        ],
        "id": "nUmJtZa2Evur"
      },
      "outputs": [],
      "source": [
        "import csv\n",
        "warehouse = [\n",
        "    {\"product\": \"Apple\", \"price\": 0.5, \"quantity\": 10},\n",
        "    {\"product\": \"Banana\", \"price\": 0.75, \"quantity\": 20},\n",
        "    {\"product\": \"Orange\", \"price\": 0.35, \"quantity\": 15}\n",
        "]\n",
        "header = [\"product\", \"price\", \"quantity\"]\n",
        "with open('warehouse_v1.csv', 'w') as file:\n",
        "  writer = csv.DictWriter(file, fieldnames=header)\n",
        "  writer.writeheader()\n",
        "  writer.writerows(warehouse)\n"
      ]
    },
    {
      "cell_type": "code",
      "source": [
        "with open('warehouse_v1.csv', 'r') as file:\n",
        "    print(file.read())"
      ],
      "metadata": {
        "colab": {
          "base_uri": "https://localhost:8080/"
        },
        "id": "nCDC-_l7PTZm",
        "outputId": "a419e222-8e5d-41c4-acba-490cd67f083a"
      },
      "execution_count": 7,
      "outputs": [
        {
          "output_type": "stream",
          "name": "stdout",
          "text": [
            "product,price,quantity\n",
            "Apple,0.5,10\n",
            "Banana,0.75,20\n",
            "Orange,0.35,15\n",
            "\n"
          ]
        }
      ]
    },
    {
      "cell_type": "markdown",
      "metadata": {
        "id": "B1v2ZLfYEvut"
      },
      "source": [
        "### Task 6\n",
        "\n",
        "Now use csv writer convenience methods to do the same to the file `warehouse_v2.csv`. The file content should be identical."
      ]
    },
    {
      "cell_type": "code",
      "execution_count": 8,
      "metadata": {
        "tags": [
          "task_6"
        ],
        "id": "HfQ1i0TjEvuu"
      },
      "outputs": [],
      "source": [
        "warehouse = [\n",
        "    {\"product\": \"Apple\", \"price\": 0.5, \"quantity\": 10},\n",
        "    {\"product\": \"Banana\", \"price\": 0.75, \"quantity\": 20},\n",
        "    {\"product\": \"Orange\", \"price\": 0.35, \"quantity\": 15}\n",
        "]\n",
        "header = [\"product\", \"price\", \"quantity\"]\n",
        "with open('warehouse_v2.csv', 'w',) as file:\n",
        "    writer = csv.writer(file)\n",
        "    writer.writerow(header)\n",
        "    for item in warehouse:\n",
        "        writer.writerow([item[\"product\"], item[\"price\"], item[\"quantity\"]])"
      ]
    },
    {
      "cell_type": "code",
      "source": [
        "with open('warehouse_v2.csv', 'r') as file:\n",
        "    print(file.read())"
      ],
      "metadata": {
        "colab": {
          "base_uri": "https://localhost:8080/"
        },
        "id": "_eoD3J-3Qrea",
        "outputId": "02e463b7-5d56-44ad-bed9-04899429e451"
      },
      "execution_count": 9,
      "outputs": [
        {
          "output_type": "stream",
          "name": "stdout",
          "text": [
            "product,price,quantity\n",
            "Apple,0.5,10\n",
            "Banana,0.75,20\n",
            "Orange,0.35,15\n",
            "\n"
          ]
        }
      ]
    },
    {
      "cell_type": "markdown",
      "metadata": {
        "id": "hY-gVS93Evuv"
      },
      "source": [
        "## JSON"
      ]
    },
    {
      "cell_type": "markdown",
      "metadata": {
        "id": "WBABzqgMEvuv"
      },
      "source": [
        "### Task 7\n",
        "\n",
        "The lecture didn't mention this, but another common way to store information on disk is JSON. The JSON structure comes from Javascript, but somehow similar to native Python structures like `list` and `dict`. There's `json` module to help you work with JSON files.\n",
        "\n",
        "Now, store the same `warehouse` object to the `warehouse.json` file and inspect its content. Use the internet to look up the needed functions."
      ]
    },
    {
      "cell_type": "code",
      "execution_count": 12,
      "metadata": {
        "tags": [
          "task_7"
        ],
        "id": "dGWzuDdwEvuw",
        "colab": {
          "base_uri": "https://localhost:8080/"
        },
        "outputId": "fd5c1d92-271c-442d-8816-d0e850efaaf5"
      },
      "outputs": [
        {
          "output_type": "stream",
          "name": "stdout",
          "text": [
            "[{\"product\": \"Apple\", \"price\": 0.5, \"quantity\": 10}, {\"product\": \"Banana\", \"price\": 0.75, \"quantity\": 20}, {\"product\": \"Orange\", \"price\": 0.35, \"quantity\": 15}]\n"
          ]
        }
      ],
      "source": [
        "import json\n",
        "warehouse = [\n",
        "    {\"product\": \"Apple\", \"price\": 0.5, \"quantity\": 10},\n",
        "    {\"product\": \"Banana\", \"price\": 0.75, \"quantity\": 20},\n",
        "    {\"product\": \"Orange\", \"price\": 0.35, \"quantity\": 15}\n",
        "]\n",
        "\n",
        "with open('warehouse_no_indent.json', 'w') as file:\n",
        "    json.dump(warehouse, file)\n",
        "\n",
        "with open('warehouse_no_indent.json', 'r') as file:\n",
        "    content = file.read()\n",
        "    print(content)"
      ]
    }
  ],
  "metadata": {
    "colab": {
      "provenance": [],
      "include_colab_link": true
    },
    "kernelspec": {
      "display_name": "venv",
      "language": "python",
      "name": "python3"
    },
    "language_info": {
      "codemirror_mode": {
        "name": "ipython",
        "version": 3
      },
      "file_extension": ".py",
      "mimetype": "text/x-python",
      "name": "python",
      "nbconvert_exporter": "python",
      "pygments_lexer": "ipython3",
      "version": "3.11.5"
    },
    "orig_nbformat": 4
  },
  "nbformat": 4,
  "nbformat_minor": 0
}