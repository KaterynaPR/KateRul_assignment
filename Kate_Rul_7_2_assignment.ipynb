{
  "cells": [
    {
      "cell_type": "markdown",
      "metadata": {
        "id": "view-in-github",
        "colab_type": "text"
      },
      "source": [
        "<a href=\"https://colab.research.google.com/github/KaterynaPR/KateRul_assignment/blob/main/Kate_Rul_7_2_assignment.ipynb\" target=\"_parent\"><img src=\"https://colab.research.google.com/assets/colab-badge.svg\" alt=\"Open In Colab\"/></a>"
      ]
    },
    {
      "cell_type": "markdown",
      "metadata": {
        "id": "xaGm1JWcXOFn"
      },
      "source": [
        "# Assignment 7.2\n",
        "\n",
        "\n",
        "> Replace all TODOs with your code.\n",
        ">\n",
        "> Do not change any other code and do not add/remove cells!"
      ]
    },
    {
      "cell_type": "markdown",
      "metadata": {
        "id": "eFudo-VaX3QV"
      },
      "source": [
        "## Servers"
      ]
    },
    {
      "cell_type": "markdown",
      "metadata": {
        "id": "XQnz02oFeHfA"
      },
      "source": [
        "### Task 1\n",
        "\n",
        "- Install Flask\n",
        "- Import the Flask module"
      ]
    },
    {
      "cell_type": "code",
      "source": [
        "!pip install flask"
      ],
      "metadata": {
        "colab": {
          "base_uri": "https://localhost:8080/"
        },
        "id": "LLJS5AshapyJ",
        "outputId": "9e7dd767-f383-4c9f-eb96-163942f5f134"
      },
      "execution_count": 5,
      "outputs": [
        {
          "output_type": "stream",
          "name": "stdout",
          "text": [
            "Requirement already satisfied: flask in /usr/local/lib/python3.10/dist-packages (2.2.5)\n",
            "Requirement already satisfied: Werkzeug>=2.2.2 in /usr/local/lib/python3.10/dist-packages (from flask) (3.0.4)\n",
            "Requirement already satisfied: Jinja2>=3.0 in /usr/local/lib/python3.10/dist-packages (from flask) (3.1.4)\n",
            "Requirement already satisfied: itsdangerous>=2.0 in /usr/local/lib/python3.10/dist-packages (from flask) (2.2.0)\n",
            "Requirement already satisfied: click>=8.0 in /usr/local/lib/python3.10/dist-packages (from flask) (8.1.7)\n",
            "Requirement already satisfied: MarkupSafe>=2.0 in /usr/local/lib/python3.10/dist-packages (from Jinja2>=3.0->flask) (2.1.5)\n"
          ]
        }
      ]
    },
    {
      "cell_type": "code",
      "execution_count": 7,
      "metadata": {
        "id": "Sma9C-8Ca8_W",
        "colab": {
          "base_uri": "https://localhost:8080/"
        },
        "outputId": "882a5619-7c5d-44fd-84b9-a255f72b92fb"
      },
      "outputs": [
        {
          "output_type": "stream",
          "name": "stdout",
          "text": [
            " * Serving Flask app '__main__'\n",
            " * Debug mode: on\n"
          ]
        },
        {
          "output_type": "stream",
          "name": "stderr",
          "text": [
            "INFO:werkzeug:\u001b[31m\u001b[1mWARNING: This is a development server. Do not use it in a production deployment. Use a production WSGI server instead.\u001b[0m\n",
            " * Running on http://127.0.0.1:5000\n",
            "INFO:werkzeug:\u001b[33mPress CTRL+C to quit\u001b[0m\n",
            "INFO:werkzeug: * Restarting with stat\n"
          ]
        }
      ],
      "source": [
        "from flask import Flask\n",
        "app = Flask(__name__) #Create a Flask application\n",
        "@app.route('/') #Implement a Flask route\n",
        "def home():\n",
        "    return \"Hello, Flask!\"\n",
        "if __name__ == '__main__':\n",
        "    app.run(debug=True)"
      ]
    },
    {
      "cell_type": "markdown",
      "metadata": {
        "id": "ENfer6cQbC2E"
      },
      "source": [
        "### Task 2\n",
        "\n",
        " Implement a Flask route (GET /count-requests) that increments a request counter with each incoming request and returns the counter as a JSON response."
      ]
    },
    {
      "cell_type": "code",
      "source": [
        "from flask import Flask, jsonify"
      ],
      "metadata": {
        "id": "NTbpJo8idu0M"
      },
      "execution_count": 8,
      "outputs": []
    },
    {
      "cell_type": "code",
      "execution_count": 9,
      "metadata": {
        "id": "v_3FDD4nbkaJ",
        "colab": {
          "base_uri": "https://localhost:8080/"
        },
        "outputId": "78288ddd-137a-4597-8e28-9a6afaf6658e"
      },
      "outputs": [
        {
          "output_type": "stream",
          "name": "stdout",
          "text": [
            " * Serving Flask app '__main__'\n",
            " * Debug mode: on\n"
          ]
        },
        {
          "output_type": "stream",
          "name": "stderr",
          "text": [
            "INFO:werkzeug:\u001b[31m\u001b[1mWARNING: This is a development server. Do not use it in a production deployment. Use a production WSGI server instead.\u001b[0m\n",
            " * Running on http://127.0.0.1:5000\n",
            "INFO:werkzeug:\u001b[33mPress CTRL+C to quit\u001b[0m\n",
            "INFO:werkzeug: * Restarting with stat\n"
          ]
        }
      ],
      "source": [
        "app = Flask(__name__) #Create a Flask application\n",
        "request_counter = 0 #Global variable for counting the number of requests\n",
        "\n",
        "@app.route('/count-requests', methods=['GET']) #Route for counting requests\n",
        "def count_requests():\n",
        "    global request_counter #accessing a global variable\n",
        "    request_counter += 1  #increase the counter with each request\n",
        "    return jsonify({'request_count': request_counter})  #return the counter in JSON format\n",
        "\n",
        "if __name__ == '__main__':\n",
        "    app.run(debug=True)"
      ]
    },
    {
      "cell_type": "markdown",
      "metadata": {
        "id": "PqvmBffdeL-k"
      },
      "source": [
        "### Task 3\n",
        "\n",
        "Implement a Flask route (POST /reset-counter) to reset the request counter to 0 when accessed."
      ]
    },
    {
      "cell_type": "code",
      "source": [
        "from flask import request"
      ],
      "metadata": {
        "id": "eU58yAw8fnlB"
      },
      "execution_count": 10,
      "outputs": []
    },
    {
      "cell_type": "code",
      "execution_count": 11,
      "metadata": {
        "id": "feIK0aMwchOF",
        "colab": {
          "base_uri": "https://localhost:8080/"
        },
        "outputId": "5f0aba48-7901-48b0-bcbe-84449c90972e"
      },
      "outputs": [
        {
          "output_type": "stream",
          "name": "stdout",
          "text": [
            " * Serving Flask app '__main__'\n",
            " * Debug mode: on\n"
          ]
        },
        {
          "output_type": "stream",
          "name": "stderr",
          "text": [
            "INFO:werkzeug:\u001b[31m\u001b[1mWARNING: This is a development server. Do not use it in a production deployment. Use a production WSGI server instead.\u001b[0m\n",
            " * Running on http://127.0.0.1:5000\n",
            "INFO:werkzeug:\u001b[33mPress CTRL+C to quit\u001b[0m\n",
            "INFO:werkzeug: * Restarting with stat\n"
          ]
        }
      ],
      "source": [
        "app = Flask(__name__) #Create a Flask application\n",
        "request_counter = 0 #Global variable for counting the number of requests\n",
        "\n",
        "@app.route('/count-requests', methods=['GET']) #Route for counting requests\n",
        "def count_requests():\n",
        "    global request_counter #accessing a global variable\n",
        "    request_counter += 1 #increase the counter with each request\n",
        "    return jsonify({'request_count': request_counter}) #return the counter in JSON format\n",
        "\n",
        "@app.route('/reset-counter', methods=['POST']) #route to reset the counter\n",
        "def reset_requests():\n",
        "    global request_counter\n",
        "    request_counter = 0  #Reset the counter to 0\n",
        "    return jsonify({'message': 'Request counter has been reset', 'request_count': request_counter})\n",
        "\n",
        "if __name__ == '__main__':\n",
        "    app.run(debug=True)"
      ]
    },
    {
      "cell_type": "markdown",
      "metadata": {
        "id": "tQ3HN2H0eRp8"
      },
      "source": [
        "### Task 4\n",
        "\n",
        "Add the following lines to the end of the script and run the server:"
      ]
    },
    {
      "cell_type": "code",
      "execution_count": 12,
      "metadata": {
        "id": "he5zZekNdXhq",
        "colab": {
          "base_uri": "https://localhost:8080/"
        },
        "outputId": "8cb719ff-8172-49c2-e373-d32ab59ce883"
      },
      "outputs": [
        {
          "output_type": "stream",
          "name": "stdout",
          "text": [
            " * Serving Flask app '__main__'\n",
            " * Debug mode: on\n"
          ]
        },
        {
          "output_type": "stream",
          "name": "stderr",
          "text": [
            "INFO:werkzeug:\u001b[31m\u001b[1mWARNING: This is a development server. Do not use it in a production deployment. Use a production WSGI server instead.\u001b[0m\n",
            " * Running on http://127.0.0.1:5000\n",
            "INFO:werkzeug:\u001b[33mPress CTRL+C to quit\u001b[0m\n",
            "INFO:werkzeug: * Restarting with stat\n"
          ]
        }
      ],
      "source": [
        "if __name__ == '__main__':\n",
        "    app.run(debug=True)"
      ]
    },
    {
      "cell_type": "markdown",
      "metadata": {
        "id": "KJCt5yDue__T"
      },
      "source": [
        "You should see an output indicating that the Flask development server is running. By default, it will be accessible at http://localhost:5000/ in your web browser."
      ]
    }
  ],
  "metadata": {
    "colab": {
      "provenance": [],
      "collapsed_sections": [
        "ENfer6cQbC2E"
      ],
      "toc_visible": true,
      "include_colab_link": true
    },
    "kernelspec": {
      "display_name": "Python 3",
      "name": "python3"
    },
    "language_info": {
      "name": "python"
    }
  },
  "nbformat": 4,
  "nbformat_minor": 0
}