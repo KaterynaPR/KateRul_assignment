{
  "cells": [
    {
      "cell_type": "markdown",
      "metadata": {
        "id": "view-in-github",
        "colab_type": "text"
      },
      "source": [
        "<a href=\"https://colab.research.google.com/github/KaterynaPR/KateRul_assignment/blob/main/Kate_Rul_3_1_assignment.ipynb\" target=\"_parent\"><img src=\"https://colab.research.google.com/assets/colab-badge.svg\" alt=\"Open In Colab\"/></a>"
      ]
    },
    {
      "cell_type": "markdown",
      "metadata": {
        "id": "-89_Z_je0cfL"
      },
      "source": [
        "# Assignment 3.1\n",
        "\n",
        "> Replace all TODOs with your code.\n",
        ">\n",
        "> Do not change any other code and do not add/remove cells!"
      ]
    },
    {
      "cell_type": "markdown",
      "metadata": {
        "id": "w6E-GxTB0j4M"
      },
      "source": [
        "## Scope"
      ]
    },
    {
      "cell_type": "markdown",
      "metadata": {
        "id": "iEwuf_DP0cfM"
      },
      "source": [
        "### Task 1\n",
        "\n",
        "Make the program run without an error. You can only change the `calculate` function."
      ]
    },
    {
      "cell_type": "code",
      "source": [
        "call_counter = 0\n",
        "\n",
        "def calculate(a, b):\n",
        "    global call_counter\n",
        "    call_counter += 1\n",
        "    return a ** (b / 2)\n",
        "\n",
        "for call_counter in range(5):\n",
        "    calculate(5, 5)\n",
        "\n",
        "print(f'calculate called {call_counter} times') # should print \"calculate called 5 times\""
      ],
      "metadata": {
        "colab": {
          "base_uri": "https://localhost:8080/"
        },
        "id": "PlL_ZkeJHi0r",
        "outputId": "3f4c0852-b3fc-4cb7-e644-6e0e74079d41"
      },
      "execution_count": null,
      "outputs": [
        {
          "output_type": "stream",
          "name": "stdout",
          "text": [
            "calculate called 5 times\n"
          ]
        }
      ]
    },
    {
      "cell_type": "code",
      "source": [],
      "metadata": {
        "id": "Uu6whIMnXTmk"
      },
      "execution_count": null,
      "outputs": []
    },
    {
      "cell_type": "markdown",
      "metadata": {
        "id": "mZydlWw_0wzt"
      },
      "source": [
        "## Errors"
      ]
    },
    {
      "cell_type": "markdown",
      "metadata": {
        "id": "2z8HqsaK0cfN"
      },
      "source": [
        "### Task 2\n",
        "\n",
        "Your task is to come up with an example for each error type. Replace all TODOs with a single-line expression that when evaluated will raise the specified error."
      ]
    },
    {
      "cell_type": "code",
      "execution_count": null,
      "metadata": {
        "id": "kva_9ycA0cfN",
        "tags": [
          "task_2"
        ],
        "colab": {
          "base_uri": "https://localhost:8080/",
          "height": 106
        },
        "outputId": "3275e460-3d9b-4923-a81b-aaf1c68f1884"
      },
      "outputs": [
        {
          "output_type": "error",
          "ename": "SyntaxError",
          "evalue": "invalid syntax. Perhaps you forgot a comma? (<ipython-input-4-4ae42f5a45f7>, line 1)",
          "traceback": [
            "\u001b[0;36m  File \u001b[0;32m\"<ipython-input-4-4ae42f5a45f7>\"\u001b[0;36m, line \u001b[0;32m1\u001b[0m\n\u001b[0;31m    a = input(How old are you?)\u001b[0m\n\u001b[0m              ^\u001b[0m\n\u001b[0;31mSyntaxError\u001b[0m\u001b[0;31m:\u001b[0m invalid syntax. Perhaps you forgot a comma?\n"
          ]
        }
      ],
      "source": [
        "a = input(How old are you?)\n",
        "# should raise SyntaxError"
      ]
    },
    {
      "cell_type": "code",
      "source": [
        "b = input(int('what year now?'))\n",
        "\n",
        "\n",
        "# should raise ValueError"
      ],
      "metadata": {
        "id": "r1NGsqySe9P0",
        "colab": {
          "base_uri": "https://localhost:8080/",
          "height": 193
        },
        "outputId": "d2f1aea5-aa6d-48de-f32c-dac3175142ec"
      },
      "execution_count": null,
      "outputs": [
        {
          "output_type": "error",
          "ename": "ValueError",
          "evalue": "invalid literal for int() with base 10: 'what year now?'",
          "traceback": [
            "\u001b[0;31m---------------------------------------------------------------------------\u001b[0m",
            "\u001b[0;31mValueError\u001b[0m                                Traceback (most recent call last)",
            "\u001b[0;32m<ipython-input-5-383c650b2c2b>\u001b[0m in \u001b[0;36m<cell line: 1>\u001b[0;34m()\u001b[0m\n\u001b[0;32m----> 1\u001b[0;31m \u001b[0mb\u001b[0m \u001b[0;34m=\u001b[0m \u001b[0minput\u001b[0m\u001b[0;34m(\u001b[0m\u001b[0mint\u001b[0m\u001b[0;34m(\u001b[0m\u001b[0;34m'what year now?'\u001b[0m\u001b[0;34m)\u001b[0m\u001b[0;34m)\u001b[0m\u001b[0;34m\u001b[0m\u001b[0;34m\u001b[0m\u001b[0m\n\u001b[0m\u001b[1;32m      2\u001b[0m \u001b[0;34m\u001b[0m\u001b[0m\n\u001b[1;32m      3\u001b[0m \u001b[0;34m\u001b[0m\u001b[0m\n\u001b[1;32m      4\u001b[0m \u001b[0;31m# should raise ValueError\u001b[0m\u001b[0;34m\u001b[0m\u001b[0;34m\u001b[0m\u001b[0m\n",
            "\u001b[0;31mValueError\u001b[0m: invalid literal for int() with base 10: 'what year now?'"
          ]
        }
      ]
    },
    {
      "cell_type": "code",
      "source": [
        "def  function_1():\n",
        "    print(my_numb)\n",
        "\n",
        "function_1()\n",
        "\n",
        "\n",
        "# should raise NameError"
      ],
      "metadata": {
        "id": "7HRYRoijfm6y",
        "colab": {
          "base_uri": "https://localhost:8080/",
          "height": 332
        },
        "outputId": "611956f7-968f-401f-e0dc-49cb658f3c45"
      },
      "execution_count": null,
      "outputs": [
        {
          "output_type": "error",
          "ename": "NameError",
          "evalue": "name 'my_numb' is not defined",
          "traceback": [
            "\u001b[0;31m---------------------------------------------------------------------------\u001b[0m",
            "\u001b[0;31mNameError\u001b[0m                                 Traceback (most recent call last)",
            "\u001b[0;32m<ipython-input-9-681dccddc502>\u001b[0m in \u001b[0;36m<cell line: 4>\u001b[0;34m()\u001b[0m\n\u001b[1;32m      2\u001b[0m     \u001b[0mprint\u001b[0m\u001b[0;34m(\u001b[0m\u001b[0mmy_numb\u001b[0m\u001b[0;34m)\u001b[0m\u001b[0;34m\u001b[0m\u001b[0;34m\u001b[0m\u001b[0m\n\u001b[1;32m      3\u001b[0m \u001b[0;34m\u001b[0m\u001b[0m\n\u001b[0;32m----> 4\u001b[0;31m \u001b[0mfunction_1\u001b[0m\u001b[0;34m(\u001b[0m\u001b[0;34m)\u001b[0m\u001b[0;34m\u001b[0m\u001b[0;34m\u001b[0m\u001b[0m\n\u001b[0m\u001b[1;32m      5\u001b[0m \u001b[0;34m\u001b[0m\u001b[0m\n\u001b[1;32m      6\u001b[0m \u001b[0;34m\u001b[0m\u001b[0m\n",
            "\u001b[0;32m<ipython-input-9-681dccddc502>\u001b[0m in \u001b[0;36mfunction_1\u001b[0;34m()\u001b[0m\n\u001b[1;32m      1\u001b[0m \u001b[0;32mdef\u001b[0m  \u001b[0mfunction_1\u001b[0m\u001b[0;34m(\u001b[0m\u001b[0;34m)\u001b[0m\u001b[0;34m:\u001b[0m\u001b[0;34m\u001b[0m\u001b[0;34m\u001b[0m\u001b[0m\n\u001b[0;32m----> 2\u001b[0;31m     \u001b[0mprint\u001b[0m\u001b[0;34m(\u001b[0m\u001b[0mmy_numb\u001b[0m\u001b[0;34m)\u001b[0m\u001b[0;34m\u001b[0m\u001b[0;34m\u001b[0m\u001b[0m\n\u001b[0m\u001b[1;32m      3\u001b[0m \u001b[0;34m\u001b[0m\u001b[0m\n\u001b[1;32m      4\u001b[0m \u001b[0mfunction_1\u001b[0m\u001b[0;34m(\u001b[0m\u001b[0;34m)\u001b[0m\u001b[0;34m\u001b[0m\u001b[0;34m\u001b[0m\u001b[0m\n\u001b[1;32m      5\u001b[0m \u001b[0;34m\u001b[0m\u001b[0m\n",
            "\u001b[0;31mNameError\u001b[0m: name 'my_numb' is not defined"
          ]
        }
      ]
    },
    {
      "cell_type": "markdown",
      "source": [
        "## Tuples"
      ],
      "metadata": {
        "id": "atoe2n_8fxjR"
      }
    },
    {
      "cell_type": "markdown",
      "metadata": {
        "id": "IqjW7SGS0cfN"
      },
      "source": [
        "### Task 3\n",
        "\n",
        "Given a tuple `a1` create tuple `b1` which has all the elements of `a1` in reverse order."
      ]
    },
    {
      "cell_type": "code",
      "execution_count": 1,
      "metadata": {
        "id": "p83RQvA40cfN",
        "tags": [
          "task_3"
        ],
        "colab": {
          "base_uri": "https://localhost:8080/"
        },
        "outputId": "fe9cdd28-a1a0-4968-b283-f8716cb5f6e4"
      },
      "outputs": [
        {
          "output_type": "stream",
          "name": "stdout",
          "text": [
            "(5, 4, 3, 2, 1)\n"
          ]
        }
      ],
      "source": [
        "a1 = (1, 2, 3, 4, 5)\n",
        "\n",
        "b1 = a1[::-1]\n",
        "\n",
        "print(b1)  # should print (5, 4, 3, 2, 1)"
      ]
    },
    {
      "cell_type": "markdown",
      "source": [
        "### Task 4\n",
        "\n",
        "Write a function that will remove an element from tuple by index. It should create a new tuple."
      ],
      "metadata": {
        "id": "Q6MrylS6iUUX"
      }
    },
    {
      "cell_type": "code",
      "source": [
        "def pop_element(v1: tuple, i: int) -> tuple:\n",
        "    return v1[:i] + v1[i+1:]\n",
        "\n",
        "print(pop_element((1,2,3), 1)) # should print (1, 3)"
      ],
      "metadata": {
        "id": "lsprATzgigYc",
        "colab": {
          "base_uri": "https://localhost:8080/"
        },
        "outputId": "a8f4eedb-8063-42f4-a356-77d44cbabe74"
      },
      "execution_count": null,
      "outputs": [
        {
          "output_type": "stream",
          "name": "stdout",
          "text": [
            "(1, 3)\n"
          ]
        }
      ]
    },
    {
      "cell_type": "markdown",
      "metadata": {
        "id": "fceBNTpUnip6"
      },
      "source": [
        "### Task 5\n",
        "\n",
        "Implement a function that will add vectors elemnt-wise in the same-dimentional space. If the dimensions of vectors do not match, raise ValueError with the appropriate message."
      ]
    },
    {
      "cell_type": "code",
      "execution_count": null,
      "metadata": {
        "id": "VsoALrbBnsjs",
        "tags": [
          "task_4"
        ],
        "colab": {
          "base_uri": "https://localhost:8080/"
        },
        "outputId": "f63fb395-a060-4db2-8315-7305ca14f0a6"
      },
      "outputs": [
        {
          "output_type": "stream",
          "name": "stdout",
          "text": [
            "(5, 7, 9)\n",
            "Error\n"
          ]
        }
      ],
      "source": [
        "def add(v1: tuple, v2: tuple) -> tuple:\n",
        "    if len(v1) != len(v2):\n",
        "        return \"Error\"\n",
        "\n",
        "    return tuple(v1[i] + v2[i] for i in range(len(v1)))\n",
        "\n",
        "print(add((1,2,3), (4,5,6))) # should print (5, 7, 9)\n",
        "print(add((1,2,3), (4,5,6,7))) # should raise error"
      ]
    },
    {
      "cell_type": "markdown",
      "source": [
        "### Task 6\n",
        "\n",
        "Implement a [dot product](https://en.wikipedia.org/wiki/Dot_product) of two vectors."
      ],
      "metadata": {
        "id": "K_QMm92QhkTJ"
      }
    },
    {
      "cell_type": "code",
      "source": [
        "def dot(v1: tuple, v2: tuple) -> int:\n",
        "    if len(v1) != len(v2):\n",
        "       return \"Error \"\n",
        "\n",
        "    return sum(v1[i] * v2[i] for i in range(len(v1)))\n",
        "\n",
        "print(dot((1,2,3), (4,5,6))) # should print 32\n",
        "print(dot((1,2,3), (4,5,6,7))) # should raise error"
      ],
      "metadata": {
        "id": "6iY5pBDFhh_Y",
        "colab": {
          "base_uri": "https://localhost:8080/"
        },
        "outputId": "89e5e9fb-1426-45ed-f20a-9604d5f567ad"
      },
      "execution_count": null,
      "outputs": [
        {
          "output_type": "stream",
          "name": "stdout",
          "text": [
            "32\n",
            "Error \n"
          ]
        }
      ]
    }
  ],
  "metadata": {
    "colab": {
      "provenance": [],
      "include_colab_link": true
    },
    "kernelspec": {
      "display_name": "venv",
      "language": "python",
      "name": "python3"
    },
    "language_info": {
      "codemirror_mode": {
        "name": "ipython",
        "version": 3
      },
      "file_extension": ".py",
      "mimetype": "text/x-python",
      "name": "python",
      "nbconvert_exporter": "python",
      "pygments_lexer": "ipython3",
      "version": "3.9.6"
    },
    "orig_nbformat": 4
  },
  "nbformat": 4,
  "nbformat_minor": 0
}