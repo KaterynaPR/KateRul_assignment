{
  "cells": [
    {
      "cell_type": "markdown",
      "metadata": {
        "id": "view-in-github",
        "colab_type": "text"
      },
      "source": [
        "<a href=\"https://colab.research.google.com/github/KaterynaPR/KateRul_assignment/blob/main/Kate_Rul__9_2_assignment.ipynb\" target=\"_parent\"><img src=\"https://colab.research.google.com/assets/colab-badge.svg\" alt=\"Open In Colab\"/></a>"
      ]
    },
    {
      "cell_type": "markdown",
      "metadata": {
        "id": "oY7M_WqQy7zz"
      },
      "source": [
        "# Assignment 9.2\n",
        "\n",
        "> Replace all TODOs with your code. Do not change any other code."
      ]
    },
    {
      "cell_type": "code",
      "execution_count": 2,
      "metadata": {
        "id": "mnm_mM7I9Xx0"
      },
      "outputs": [],
      "source": [
        "# Do not edit this cell\n",
        "\n",
        "from typing import List"
      ]
    },
    {
      "cell_type": "markdown",
      "metadata": {
        "id": "Jz8SYjAz0N8D"
      },
      "source": [
        "## Descriptive statistics\n",
        "\n",
        "In this assignment, we will write the functions to calculate the basic statistics from scratch, not using numpy."
      ]
    },
    {
      "cell_type": "markdown",
      "metadata": {
        "id": "IHwd1Zzby7z1"
      },
      "source": [
        "### Task 1\n",
        "\n",
        "Let's start simple: write a function `mean` that calculates the average of the list.\n",
        "\n",
        "$$\\mu = \\frac{{\\sum_{i=1}^n x_i}}{{n}}$$"
      ]
    },
    {
      "cell_type": "code",
      "execution_count": 3,
      "metadata": {
        "id": "UfB0dnXHy7z2",
        "tags": [
          "task_1"
        ]
      },
      "outputs": [],
      "source": [
        "def mean(li: List[float]) -> float:\n",
        "    if len(li) == 0:  #Check for an empty list\n",
        "        return 0.0\n",
        "    return sum(li) / len(li)  # Calculating the average value\n",
        "\n",
        "\n",
        "assert mean([1., 2., 3.]) == 2.\n",
        "assert mean([1., 1., 2., 0.]) == 1."
      ]
    },
    {
      "cell_type": "markdown",
      "metadata": {
        "id": "lL-ELM-Ay7z2"
      },
      "source": [
        "### Task 2\n",
        "\n",
        "Now let's calculate variance (dispersion). You may use the `mean` function implemented before.\n",
        "\n",
        "$$V = \\frac{{\\sum_{i=1}^n (x_i - \\mu)^2}}{{n}}$$"
      ]
    },
    {
      "cell_type": "code",
      "execution_count": 4,
      "metadata": {
        "id": "cibiSsjry7z3",
        "tags": [
          "task_2"
        ]
      },
      "outputs": [],
      "source": [
        "def variance(li: List[float]) -> float:\n",
        "    if len(li) == 0:\n",
        "        return 0.0\n",
        "\n",
        "    mu = mean(li)  # Calculating the average value\n",
        "    squared_diffs = [(x - mu) ** 2 for x in li]  #Squares of deviations\n",
        "    return sum(squared_diffs) / len(li)  # Calculating the variance\n",
        "\n",
        "\n",
        "assert variance([1., 1., 1.]) == 0.\n",
        "assert variance([1., 2., 3., 4.]) == 1.25"
      ]
    },
    {
      "cell_type": "markdown",
      "metadata": {
        "id": "YSAUJe1u9XyM"
      },
      "source": [
        "### Task 3\n",
        "\n",
        "The standard deviation is easy once you get the variance:\n",
        "\n",
        "$$\\sigma = \\sqrt{V}$$"
      ]
    },
    {
      "cell_type": "code",
      "source": [
        "import math"
      ],
      "metadata": {
        "id": "nm4v3gGDbtJY"
      },
      "execution_count": 5,
      "outputs": []
    },
    {
      "cell_type": "code",
      "execution_count": 6,
      "metadata": {
        "tags": [
          "task_3"
        ],
        "id": "8cr3iHPR9XyO"
      },
      "outputs": [],
      "source": [
        "def std(li: List[float]) -> float:\n",
        "    return math.sqrt(variance(li))\n",
        "\n",
        "\n",
        "assert std([1., 1., 1.]) == 0.\n",
        "assert std([1., 2., 3., 4.]) == 1.25**0.5\n"
      ]
    },
    {
      "cell_type": "markdown",
      "metadata": {
        "id": "2I481Gkj9XyR"
      },
      "source": [
        "### Task 4\n",
        "\n",
        "**Median**\n",
        "\n",
        "The median is the middle value in a sorted dataset. If the dataset has an odd number of values, the median is the value at the center. If the dataset has an even number of values, the median is the average of the two middle values."
      ]
    },
    {
      "cell_type": "code",
      "execution_count": 7,
      "metadata": {
        "tags": [
          "task_4"
        ],
        "id": "0BEoTR119XyT"
      },
      "outputs": [],
      "source": [
        "def median(li: List[float]) -> float:\n",
        "    if len(li) == 0:\n",
        "        return 0.0  # If the list is empty, return 0\n",
        "\n",
        "    sorted_li = sorted(li) #sorted list\n",
        "    n = len(sorted_li)\n",
        "\n",
        "    if n % 2 == 1: # If the number of items is unpaired\n",
        "        return sorted_li[n // 2]  #return the middle element\n",
        "    else:\n",
        "        # If the number of elements is paired\n",
        "        mid1 = sorted_li[n // 2 - 1]  #the first middle element\n",
        "        mid2 = sorted_li[n // 2]      #the second middle element\n",
        "        return (mid1 + mid2) / 2  #Return the average of two middle elements\n",
        "\n",
        "\n",
        "assert median([1., 1., 1.]) == 1.\n",
        "assert median([1., 4., 3., 2.]) == 2.5"
      ]
    },
    {
      "cell_type": "markdown",
      "metadata": {
        "id": "5DzFkKwx0VI5"
      },
      "source": [
        "## Measure performance\n",
        "\n",
        "Sometimes, apart from theoretical, algorithmic complexity, it's a good idea to compare the runtime of two algorithms empirically, i.e., run the code many times and time it.\n",
        "\n",
        "In Python's standard library, we have [timeit](https://docs.python.org/3/library/timeit.html) module that does exactly that.\n",
        "\n",
        "Let's compare the runtime of your implementations and numpy. Use the provided setup code:"
      ]
    },
    {
      "cell_type": "code",
      "execution_count": 12,
      "metadata": {
        "id": "wlNX3Jyz9XyV",
        "colab": {
          "base_uri": "https://localhost:8080/"
        },
        "outputId": "dcb1a545-0d99-4eb7-8c8d-25db41990e6d"
      },
      "outputs": [
        {
          "output_type": "stream",
          "name": "stdout",
          "text": [
            "Execution time mean for the list: 0.08715978200007157\n",
            "Execution time np.mean for the array: 0.015540628000053403\n",
            "Execution time variance for the list: 2.717448500000046\n",
            "Execution time np.var for the array: 0.042622239999673184\n",
            "Execution time std for the list: 1.6022687250001582\n",
            "Execution time np.std for the array: 0.03973755299966797\n",
            "Execution time median for the list: 1.6759905779999826\n",
            "Execution time np.median for the array: 0.1366638829999829\n"
          ]
        }
      ],
      "source": [
        "import timeit\n",
        "\n",
        "# generate data for tests\n",
        "setup = '''\n",
        "import random\n",
        "import numpy as np\n",
        "\n",
        "arr = np.random.rand(10_000) * 100\n",
        "li = [random.random() * 100 for _ in range(10_000)]\n",
        "'''\n",
        "def mean(arr):\n",
        "    return sum(arr) / len(arr)\n",
        "\n",
        "def variance(arr):\n",
        "    m = mean(arr)\n",
        "    return sum((x - m) ** 2 for x in arr) / len(arr)\n",
        "\n",
        "def std(arr):\n",
        "    return variance(arr) ** 0.5\n",
        "\n",
        "def median(arr):\n",
        "    sorted_arr = sorted(arr)\n",
        "    n = len(arr)\n",
        "    mid = n // 2\n",
        "    return (sorted_arr[mid] + sorted_arr[~mid]) / 2\n",
        "\n",
        "# pass your function to timeit module\n",
        "funcs = {\n",
        "    'mean': mean,\n",
        "    'variance': variance,\n",
        "    'std': std,\n",
        "    'median': median,\n",
        "}\n",
        "\n",
        "#Function to run performance tests through a dictionary\n",
        "def run_time():\n",
        "    for name, func in funcs.items():\n",
        "        #testing func-s\n",
        "        time_custom = timeit.timeit(f'{name}(li)', setup=setup + f'from __main__ import {name}', number=1000)\n",
        "        print(f'Execution time {name} for the list: {time_custom}')\n",
        "\n",
        "        #testing func-s numpy\n",
        "        if name == 'variance':\n",
        "            time_numpy = timeit.timeit(f'np.var(arr)', setup=setup + 'import numpy as np', number=1000)\n",
        "        else:\n",
        "            time_numpy = timeit.timeit(f'np.{name}(arr)', setup=setup + 'import numpy as np', number=1000)\n",
        "\n",
        "        print(f'Execution time np.{name if name != \"variance\" else \"var\"} for the array: {time_numpy}')\n",
        "\n",
        "#Testing the execution time\n",
        "run_time()"
      ]
    },
    {
      "cell_type": "markdown",
      "metadata": {
        "id": "nP0LlORsy7z4"
      },
      "source": [
        "### Task 5\n",
        "\n",
        "Complete Python statements to compare your functions to numpy. Use `li` for your function and `arr` for numpy functions."
      ]
    },
    {
      "cell_type": "code",
      "execution_count": 13,
      "metadata": {
        "id": "RiIm_kUSy7z4",
        "tags": [
          "task_5"
        ]
      },
      "outputs": [],
      "source": [
        "stmt_mean_custom = 'mean(li)'\n",
        "stmt_mean_np = 'np.mean(arr)'\n",
        "\n",
        "stmt_var_custom = 'variance(li)' #function for dispersion\n",
        "stmt_var_np = 'np.var(arr)' #The dispersion function in NumPy\n",
        "\n",
        "stmt_std_custom = 'std(li)' #function for standard deviation\n",
        "stmt_std_np = 'np.std(arr)' # the function for standard deviation in Numpy\n",
        "\n",
        "stmt_median_custom = 'median(li)' #function for median\n",
        "stmt_median_np = 'np.median(arr)' #the function for median in Numpy"
      ]
    },
    {
      "cell_type": "markdown",
      "metadata": {
        "id": "hU1yDEnzy7z4"
      },
      "source": [
        "### Task 6\n",
        "\n",
        "Measure average exec time of your statements with `timeit` module. As your submission, fill out the table with results (rounded to 2 decimal places)"
      ]
    },
    {
      "cell_type": "code",
      "execution_count": 17,
      "metadata": {
        "id": "8sOSsdKiy7z4",
        "tags": [
          "task_6"
        ],
        "colab": {
          "base_uri": "https://localhost:8080/"
        },
        "outputId": "d5e963cc-5c57-42c9-8cb8-fb60c19fff49"
      },
      "outputs": [
        {
          "output_type": "stream",
          "name": "stdout",
          "text": [
            "Time per 10000 executions, secs:\n",
            "\n",
            "Func\t\tCustom\t\tNumpy\n",
            "mean\t\t0.53\t\t0.09\n",
            "var\t\t17.54\t\t0.42\n",
            "std\t\t18.87\t\t0.47\n",
            "median\t\t17.3\t\t0.99\n"
          ]
        }
      ],
      "source": [
        "import timeit\n",
        "\n",
        "# generate data for tests\n",
        "setup = '''\n",
        "import random\n",
        "import numpy as np\n",
        "\n",
        "arr = np.random.rand(10_000) * 100\n",
        "li = [random.random() * 100 for _ in range(10_000)]\n",
        "from __main__ import mean, variance, std, median\n",
        "'''\n",
        "\n",
        "# Time measurement for a function mean\n",
        "time_mean_custom = timeit.timeit(stmt='mean(li)', setup=setup, number=10_000)\n",
        "time_mean_np = timeit.timeit(stmt='np.mean(arr)', setup=setup, number=10_000)\n",
        "\n",
        "#  Time measurement for a function variance\n",
        "time_var_custom = timeit.timeit(stmt='variance(li)', setup=setup, number=10_000)\n",
        "time_var_np = timeit.timeit(stmt='np.var(arr)', setup=setup, number=10_000)\n",
        "\n",
        "#  Time measurement for a function std\n",
        "time_std_custom = timeit.timeit(stmt='std(li)', setup=setup, number=10_000)\n",
        "time_std_np = timeit.timeit(stmt='np.std(arr)', setup=setup, number=10_000)\n",
        "\n",
        "#  Time measurement for a function median\n",
        "time_median_custom = timeit.timeit(stmt='median(li)', setup=setup, number=10_000)\n",
        "time_median_np = timeit.timeit(stmt='np.median(arr)', setup=setup, number=10_000)\n",
        "\n",
        "#Results\n",
        "print(f\"Time per 10000 executions, secs:\\n\")\n",
        "print(f\"Func\\t\\tCustom\\t\\tNumpy\")\n",
        "print(f\"mean\\t\\t{round(time_mean_custom, 2)}\\t\\t{round(time_mean_np, 2)}\")\n",
        "print(f\"var\\t\\t{round(time_var_custom, 2)}\\t\\t{round(time_var_np, 2)}\")\n",
        "print(f\"std\\t\\t{round(time_std_custom, 2)}\\t\\t{round(time_std_np, 2)}\")\n",
        "print(f\"median\\t\\t{round(time_median_custom, 2)}\\t\\t{round(time_median_np, 2)}\")"
      ]
    },
    {
      "cell_type": "markdown",
      "metadata": {
        "id": "NbbRIcyqy7z4"
      },
      "source": [
        "Time per 10000 executions, secs\n",
        "\n",
        "| Func       | Custom | Numpy |\n",
        "| ---------- | ------ | ----- |\n",
        "| mean       |        |       |\n",
        "| var        |        |       |\n",
        "| std        |        |       |\n",
        "| median     |        |       |"
      ]
    }
  ],
  "metadata": {
    "colab": {
      "provenance": [],
      "include_colab_link": true
    },
    "kernelspec": {
      "display_name": "venv",
      "language": "python",
      "name": "python3"
    },
    "language_info": {
      "codemirror_mode": {
        "name": "ipython",
        "version": 3
      },
      "file_extension": ".py",
      "mimetype": "text/x-python",
      "name": "python",
      "nbconvert_exporter": "python",
      "pygments_lexer": "ipython3",
      "version": "3.9.6"
    },
    "orig_nbformat": 4
  },
  "nbformat": 4,
  "nbformat_minor": 0
}