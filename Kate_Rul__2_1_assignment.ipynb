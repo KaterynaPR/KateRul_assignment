{
  "cells": [
    {
      "cell_type": "markdown",
      "metadata": {
        "id": "view-in-github",
        "colab_type": "text"
      },
      "source": [
        "<a href=\"https://colab.research.google.com/github/KaterynaPR/KateRul_assignment/blob/main/Kate_Rul__2_1_assignment.ipynb\" target=\"_parent\"><img src=\"https://colab.research.google.com/assets/colab-badge.svg\" alt=\"Open In Colab\"/></a>"
      ]
    },
    {
      "cell_type": "markdown",
      "metadata": {
        "id": "-89_Z_je0cfL"
      },
      "source": [
        "# Assignment 2.1\n",
        "\n",
        "> Replace all TODOs with your code.\n",
        ">\n",
        "> Do not change any other code and do not add/remove cells!"
      ]
    },
    {
      "cell_type": "markdown",
      "source": [
        "## Logical operators"
      ],
      "metadata": {
        "id": "w6E-GxTB0j4M"
      }
    },
    {
      "cell_type": "markdown",
      "metadata": {
        "id": "iEwuf_DP0cfM"
      },
      "source": [
        "### Task 1\n",
        "\n",
        "You have two switches: `switch1` and `switch2`. `True` - switch is on, `False` - switch is off.\n",
        "\n",
        "Implement a logical expression that turns the `res` on only when either `switch1` or `switch2` is on, but not both."
      ]
    },
    {
      "cell_type": "code",
      "execution_count": 2,
      "metadata": {
        "tags": [],
        "id": "IWVOCWxx0cfM",
        "colab": {
          "base_uri": "https://localhost:8080/"
        },
        "outputId": "d0ad6903-b406-45da-c494-9e51229bca50"
      },
      "outputs": [
        {
          "output_type": "stream",
          "name": "stdout",
          "text": [
            "res = True\n"
          ]
        }
      ],
      "source": [
        "switch1 = True\n",
        "switch2 = False\n",
        "\n",
        "res = (switch1 and not switch2) or (not switch1 and switch2)\n",
        "\n",
        "print('res =', res) # should be True"
      ]
    },
    {
      "cell_type": "markdown",
      "source": [
        "## Conditionals"
      ],
      "metadata": {
        "id": "mZydlWw_0wzt"
      }
    },
    {
      "cell_type": "markdown",
      "metadata": {
        "id": "2z8HqsaK0cfN"
      },
      "source": [
        "### Task 2\n",
        "\n",
        "Declare variable `a` with some number. If the number is divisible by 5, print 'Yes', otherwise print 'No'."
      ]
    },
    {
      "cell_type": "code",
      "execution_count": 6,
      "metadata": {
        "id": "kva_9ycA0cfN",
        "colab": {
          "base_uri": "https://localhost:8080/"
        },
        "outputId": "de89e666-922c-40d4-ba06-604fb558d877"
      },
      "outputs": [
        {
          "output_type": "stream",
          "name": "stdout",
          "text": [
            "Yes\n"
          ]
        }
      ],
      "source": [
        "a = 55\n",
        "\n",
        "if a % 5 == 0:\n",
        "    print('Yes')\n",
        "else:\n",
        "    print('No')"
      ]
    },
    {
      "cell_type": "markdown",
      "metadata": {
        "id": "IqjW7SGS0cfN"
      },
      "source": [
        "### Task 3\n",
        "\n",
        "You have string `a`. If it is an empty string, assign to it a string 'empty'; otherwise, repeat the string five times."
      ]
    },
    {
      "cell_type": "code",
      "execution_count": 13,
      "metadata": {
        "id": "p83RQvA40cfN",
        "colab": {
          "base_uri": "https://localhost:8080/"
        },
        "outputId": "411a0e88-02af-41b9-81ed-e8d5b2b6f206"
      },
      "outputs": [
        {
          "output_type": "stream",
          "name": "stdout",
          "text": [
            "4\n",
            "res = 44444\n"
          ]
        }
      ],
      "source": [
        "a = input()\n",
        "if a == '':\n",
        "  res = 'empty'\n",
        "else:\n",
        "  res = a*5\n",
        "print('res =', res)"
      ]
    },
    {
      "cell_type": "markdown",
      "source": [
        "## Loops"
      ],
      "metadata": {
        "id": "xC6HlC7Ni998"
      }
    },
    {
      "cell_type": "markdown",
      "metadata": {
        "id": "CKS_sLMj0cfN"
      },
      "source": [
        "### Task 4\n",
        "Let's calculate the sum of the first `n` terms of the [harmonic series](https://en.wikipedia.org/wiki/Harmonic_series_(mathematics))."
      ]
    },
    {
      "cell_type": "code",
      "execution_count": 14,
      "metadata": {
        "id": "tXZbJ3Jn0cfN",
        "colab": {
          "base_uri": "https://localhost:8080/"
        },
        "outputId": "ec93f898-d647-48fe-bda7-55e2168b1729"
      },
      "outputs": [
        {
          "output_type": "stream",
          "name": "stdout",
          "text": [
            "res = 2.9289682539682538\n"
          ]
        }
      ],
      "source": [
        "n = 10\n",
        "res = 0\n",
        "\n",
        "i = 1\n",
        "\n",
        "while i <= n:\n",
        "    res += 1/i\n",
        "    i += 1\n",
        "\n",
        "print('res =', res) # for n=10 should be 2.928968..."
      ]
    },
    {
      "cell_type": "markdown",
      "metadata": {
        "id": "a1oauilt0cfN"
      },
      "source": [
        "### Task 5\n",
        "Let's calculate the sum of the first `n` terms of the [alternating harmonic series](https://en.wikipedia.org/wiki/Harmonic_series_(mathematics)#Alternating_harmonic_series)."
      ]
    },
    {
      "cell_type": "code",
      "execution_count": 19,
      "metadata": {
        "id": "CLgRuR0H0cfO",
        "colab": {
          "base_uri": "https://localhost:8080/"
        },
        "outputId": "a4719d32-61ce-482a-cc29-d58677109c0a"
      },
      "outputs": [
        {
          "output_type": "stream",
          "name": "stdout",
          "text": [
            "res = 0.6456349206349207\n"
          ]
        }
      ],
      "source": [
        "n = 10\n",
        "res = 0\n",
        "\n",
        "i = 1\n",
        "\n",
        "while i <= n:\n",
        "    terms = 1 / i\n",
        "    if i % 2 == 0:\n",
        "        terms = -terms\n",
        "    res += terms\n",
        "    i += 1\n",
        "\n",
        "print('res =', res)  # for n=10 should be 0.6456349..."
      ]
    },
    {
      "cell_type": "markdown",
      "source": [
        "### Task 6 (Optional)\n",
        "\n",
        "Write a program that prints the reverse of a given string using a while loop."
      ],
      "metadata": {
        "id": "eZ-ucgAolFCa"
      }
    },
    {
      "cell_type": "code",
      "source": [
        "string = \"some_string\"\n",
        "reverse = \"\"\n",
        "\n",
        "index = len(string) - 1\n",
        "while index >= 0:\n",
        "    reverse += string[index]\n",
        "    index -= 1\n",
        "\n",
        "print(\"Reverse =\", reverse)  # should be \"gnirts_emos\""
      ],
      "metadata": {
        "id": "WeTfYFSdlHxF",
        "colab": {
          "base_uri": "https://localhost:8080/"
        },
        "outputId": "5da32715-248c-42ea-d90b-ee7e578576ba"
      },
      "execution_count": 2,
      "outputs": [
        {
          "output_type": "stream",
          "name": "stdout",
          "text": [
            "Reverse = gnirts_emos\n"
          ]
        }
      ]
    },
    {
      "cell_type": "markdown",
      "source": [
        "## Match"
      ],
      "metadata": {
        "id": "2R8JdPm2ps1s"
      }
    },
    {
      "cell_type": "markdown",
      "source": [
        "### Task 7\n",
        "\n",
        "You have `shape` (such as \"square\", \"circle\", or \"triangle\"). Use a match statement to identify and classify the shape."
      ],
      "metadata": {
        "id": "kvZBp2fOputr"
      }
    },
    {
      "cell_type": "code",
      "source": [
        "shape = \"triangle\"\n",
        "\n",
        "match shape:\n",
        "    case \"square\":\n",
        "        print(\"This is a square.\")\n",
        "    case \"circle\":\n",
        "        print(\"This is a circle.\")\n",
        "    case \"triangle\":\n",
        "        print(\"This is a triangle.\")\n",
        "\n",
        "# should print \"This is a triangle\""
      ],
      "metadata": {
        "id": "tLDTs8lqpuXQ",
        "colab": {
          "base_uri": "https://localhost:8080/"
        },
        "outputId": "6fd5dfec-dfac-417d-c409-6482abdf0cec"
      },
      "execution_count": 1,
      "outputs": [
        {
          "output_type": "stream",
          "name": "stdout",
          "text": [
            "This is a triangle.\n"
          ]
        }
      ]
    },
    {
      "cell_type": "markdown",
      "source": [
        "### Task 8 (optional)\n",
        "\n",
        "Write a function called `process_data` that takes some data as a parameter and performs operations based on the data type using a match statement. You can use any operation of your choice.\n"
      ],
      "metadata": {
        "id": "Ih9N47crqpnM"
      }
    },
    {
      "cell_type": "code",
      "source": [
        "def process_data(data):\n",
        "    match data:\n",
        "        case bool(data_bool):\n",
        "            return f\"Processing boolean: {not data_bool}\"\n",
        "        case int(data_int):\n",
        "            return f\"Processing number: {data_int * 2}\"\n",
        "        case float(data_float):\n",
        "            return f\"Processing float: {data_float / 2}\"\n",
        "        case str(data_str):\n",
        "            return f\"Processing string: {data_str.upper()}\"\n",
        "        case _:\n",
        "            return \"Unknown data type\"\n",
        "\n",
        "print(process_data(11))\n",
        "print(process_data(1.2))\n",
        "print(process_data('hello word'))\n",
        "print(process_data(True))\n",
        "print(process_data([1,2,3]))"
      ],
      "metadata": {
        "id": "_P8jKfQFqu2d",
        "colab": {
          "base_uri": "https://localhost:8080/"
        },
        "outputId": "75bb4e61-0c36-4e30-ea88-ed8a3a75fadf"
      },
      "execution_count": 16,
      "outputs": [
        {
          "output_type": "stream",
          "name": "stdout",
          "text": [
            "Processing number: 22\n",
            "Processing float: 0.6\n",
            "Processing string: HELLO WORD\n",
            "Processing boolean: False\n",
            "Unknown data type\n"
          ]
        }
      ]
    },
    {
      "cell_type": "markdown",
      "source": [
        "### Task 9 (optional)\n",
        "\n",
        "Write a function called `process_options` that takes an `option` as a parameter and performs actions based on the match statement. You can perform any action of your choice."
      ],
      "metadata": {
        "id": "F9bw1VqusCQc"
      }
    },
    {
      "cell_type": "code",
      "source": [
        "def process_options(option):\n",
        "    match option:\n",
        "        case \"A\" | \"a\":\n",
        "            print(\"Option A selected.\")\n",
        "        # TODO options B, C, and default case\n",
        "\n",
        "\n",
        "process_options('bla')  # should print \"Invalid input\""
      ],
      "metadata": {
        "id": "JeJ-4D9uq43v"
      },
      "execution_count": null,
      "outputs": []
    }
  ],
  "metadata": {
    "kernelspec": {
      "display_name": "venv",
      "language": "python",
      "name": "python3"
    },
    "language_info": {
      "codemirror_mode": {
        "name": "ipython",
        "version": 3
      },
      "file_extension": ".py",
      "mimetype": "text/x-python",
      "name": "python",
      "nbconvert_exporter": "python",
      "pygments_lexer": "ipython3",
      "version": "3.9.6"
    },
    "orig_nbformat": 4,
    "colab": {
      "provenance": [],
      "include_colab_link": true
    }
  },
  "nbformat": 4,
  "nbformat_minor": 0
}