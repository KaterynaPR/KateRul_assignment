{
  "cells": [
    {
      "cell_type": "markdown",
      "metadata": {
        "id": "view-in-github",
        "colab_type": "text"
      },
      "source": [
        "<a href=\"https://colab.research.google.com/github/KaterynaPR/KateRul_assignment/blob/main/Kate_Rul_7_1_assignment.ipynb\" target=\"_parent\"><img src=\"https://colab.research.google.com/assets/colab-badge.svg\" alt=\"Open In Colab\"/></a>"
      ]
    },
    {
      "cell_type": "markdown",
      "metadata": {
        "id": "K-xXkt9Ztf7J"
      },
      "source": [
        "# Assignment 7.1\n",
        "\n",
        "> Replace all TODOs with your code.\n",
        ">\n",
        "> Do not change any other code and do not add/remove cells!"
      ]
    },
    {
      "cell_type": "code",
      "execution_count": 1,
      "metadata": {
        "id": "sGdc6BbbALg9"
      },
      "outputs": [],
      "source": [
        "# Do not edit this cell\n",
        "\n",
        "from typing import List, Dict"
      ]
    },
    {
      "cell_type": "markdown",
      "metadata": {
        "id": "cfhcjaX0vXXa"
      },
      "source": [
        "## Clients"
      ]
    },
    {
      "cell_type": "markdown",
      "metadata": {
        "id": "Vlz14hyr6wV6"
      },
      "source": [
        "### Task 1\n",
        "\n",
        "Write a function that takes a GitHub repository name as input and uses the [GitHub Repository API](https://docs.github.com/en/rest/repos) to retrieve and return information about the specified repository, including:\n",
        "\n",
        "* Repository Name\n",
        "* Owner\n",
        "* Description\n",
        "* License (if available)\n",
        "* Creation Date\n",
        "\n",
        "Use the `requests` module for this task."
      ]
    },
    {
      "cell_type": "code",
      "source": [
        "pip install requests"
      ],
      "metadata": {
        "colab": {
          "base_uri": "https://localhost:8080/"
        },
        "id": "UI1pO1tM7g6s",
        "outputId": "25287b05-ce7d-4097-a576-c63bb66b6545"
      },
      "execution_count": 2,
      "outputs": [
        {
          "output_type": "stream",
          "name": "stdout",
          "text": [
            "Requirement already satisfied: requests in /usr/local/lib/python3.10/dist-packages (2.32.3)\n",
            "Requirement already satisfied: charset-normalizer<4,>=2 in /usr/local/lib/python3.10/dist-packages (from requests) (3.3.2)\n",
            "Requirement already satisfied: idna<4,>=2.5 in /usr/local/lib/python3.10/dist-packages (from requests) (3.8)\n",
            "Requirement already satisfied: urllib3<3,>=1.21.1 in /usr/local/lib/python3.10/dist-packages (from requests) (2.0.7)\n",
            "Requirement already satisfied: certifi>=2017.4.17 in /usr/local/lib/python3.10/dist-packages (from requests) (2024.8.30)\n"
          ]
        }
      ]
    },
    {
      "cell_type": "code",
      "source": [
        "import requests"
      ],
      "metadata": {
        "id": "skIKto7477kk"
      },
      "execution_count": 3,
      "outputs": []
    },
    {
      "cell_type": "code",
      "execution_count": 5,
      "metadata": {
        "id": "vDYn-dRb7xIX",
        "colab": {
          "base_uri": "https://localhost:8080/"
        },
        "outputId": "365376be-c78c-45d8-d332-60e00bfadea6"
      },
      "outputs": [
        {
          "output_type": "execute_result",
          "data": {
            "text/plain": [
              "{'Repository Name': 'Hello-World',\n",
              " 'Owner': 'octocat',\n",
              " 'Description': 'My first repository on GitHub!',\n",
              " 'License': None,\n",
              " 'Creation Date': '2011-01-26T19:01:12Z'}"
            ]
          },
          "metadata": {},
          "execution_count": 5
        }
      ],
      "source": [
        "def get_repository_info(repo_name: str) -> Dict[str, str]:\n",
        "    url = f\"https://api.github.com/repos/{repo_name}\"\n",
        "    response = requests.get(url)\n",
        "\n",
        "    if response.status_code == 200:\n",
        "        repo_data = response.json()\n",
        "\n",
        "        return {\n",
        "            \"Repository Name\": repo_data.get(\"name\"),\n",
        "            \"Owner\": repo_data.get(\"owner\", {}).get(\"login\"),\n",
        "            \"Description\": repo_data.get(\"description\"),\n",
        "            \"License\": repo_data.get(\"license\", {}).get(\"name\") if repo_data.get(\"license\") else None,\n",
        "            \"Creation Date\": repo_data.get(\"created_at\"),\n",
        "        }\n",
        "    else:\n",
        "        return {\"error\": f\"Repository not found or error occurred: {response.status_code}\"}\n",
        "\n",
        "get_repository_info(\"octocat/Hello-World\")"
      ]
    },
    {
      "cell_type": "markdown",
      "metadata": {
        "id": "0TC34gv79VEo"
      },
      "source": [
        "### Task 2\n",
        "\n",
        "Write a function that takes a GitHub repository name and uses the [GitHub Commits API](https://docs.github.com/en/rest/commits/commits) to retrieve and return information about the five most recent commits in a selected GitHub repository, including:\n",
        "* Commit Message\n",
        "* Author\n",
        "* Date\n",
        "* Link to the commit on GitHub\n",
        "\n",
        "Use the `requests` module for this task."
      ]
    },
    {
      "cell_type": "code",
      "source": [
        "def get_recent_commits(repo_name: str) -> List[Dict[str, str]]:\n",
        "    url = f\"https://api.github.com/repos/{repo_name}/commits\"\n",
        "\n",
        "    response = requests.get(url)\n",
        "    if response.status_code == 200:\n",
        "        commits_data = response.json()\n",
        "        recent_commits = [] #list for last commits\n",
        "\n",
        "        for commit in commits_data[:5]:  #taking 5 first commits\n",
        "            recent_commits.append({\n",
        "                \"Commit Message\": commit[\"commit\"][\"message\"],\n",
        "                \"Author\": commit[\"commit\"][\"author\"][\"name\"],\n",
        "                \"Date\": commit[\"commit\"][\"author\"][\"date\"],\n",
        "                \"Link\": commit[\"html_url\"]\n",
        "            })\n",
        "\n",
        "        return recent_commits\n",
        "    else:\n",
        "        return [{\"error\": f\"Repository not found or error occurred: {response.status_code}\"}]\n",
        "\n",
        "get_recent_commits(\"octocat/Hello-World\")"
      ],
      "metadata": {
        "colab": {
          "base_uri": "https://localhost:8080/"
        },
        "id": "C3Ca9Dhwhw36",
        "outputId": "46672a2b-e480-43a6-ed67-dbf28ee10888"
      },
      "execution_count": 9,
      "outputs": [
        {
          "output_type": "execute_result",
          "data": {
            "text/plain": [
              "[{'Commit Message': 'Merge pull request #6 from Spaceghost/patch-1\\n\\nNew line at end of file.',\n",
              "  'Author': 'The Octocat',\n",
              "  'Date': '2012-03-06T23:06:50Z',\n",
              "  'Link': 'https://github.com/octocat/Hello-World/commit/7fd1a60b01f91b314f59955a4e4d4e80d8edf11d'},\n",
              " {'Commit Message': 'New line at end of file. --Signed off by Spaceghost',\n",
              "  'Author': 'Johnneylee Jack Rollins',\n",
              "  'Date': '2011-09-14T04:42:41Z',\n",
              "  'Link': 'https://github.com/octocat/Hello-World/commit/762941318ee16e59dabbacb1b4049eec22f0d303'},\n",
              " {'Commit Message': 'first commit',\n",
              "  'Author': 'cameronmcefee',\n",
              "  'Date': '2011-01-26T19:06:08Z',\n",
              "  'Link': 'https://github.com/octocat/Hello-World/commit/553c2077f0edc3d5dc5d17262f6aa498e69d6f8e'}]"
            ]
          },
          "metadata": {},
          "execution_count": 9
        }
      ]
    }
  ],
  "metadata": {
    "colab": {
      "provenance": [],
      "include_colab_link": true
    },
    "kernelspec": {
      "display_name": "Python 3",
      "name": "python3"
    },
    "language_info": {
      "name": "python"
    }
  },
  "nbformat": 4,
  "nbformat_minor": 0
}