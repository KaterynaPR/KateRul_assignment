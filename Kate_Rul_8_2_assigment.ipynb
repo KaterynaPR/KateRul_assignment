{
  "cells": [
    {
      "cell_type": "markdown",
      "metadata": {
        "id": "view-in-github",
        "colab_type": "text"
      },
      "source": [
        "<a href=\"https://colab.research.google.com/github/KaterynaPR/KateRul_assignment/blob/main/Kate_Rul_8_2_assigment.ipynb\" target=\"_parent\"><img src=\"https://colab.research.google.com/assets/colab-badge.svg\" alt=\"Open In Colab\"/></a>"
      ]
    },
    {
      "cell_type": "markdown",
      "metadata": {
        "id": "ozOVKEIKm8aP"
      },
      "source": [
        "# Assignment 8.2\n",
        "\n",
        "> Replace all TODOs with your code.\n",
        ">\n",
        "> Do not change any other code and do not add/remove cells!"
      ]
    },
    {
      "cell_type": "markdown",
      "metadata": {
        "id": "GRPST61knD1_"
      },
      "source": [
        "## Inheritance"
      ]
    },
    {
      "cell_type": "markdown",
      "metadata": {
        "id": "TIeo4PGfnH_f"
      },
      "source": [
        "### Task 1\n",
        "\n",
        "Define a base class named `Account` to a general bank account.\n",
        "\n",
        "The class should include an initialization method (`__init__`), taking into account the number and holder name and methods for depositing money to the account and withdrawing from it. Do not forget to ensure that the account never has a negative balance.\n",
        "\n",
        "String representation (`__str__`) should be an abstract method (throw a corresponding error if it is called on the base `Account` class"
      ]
    },
    {
      "cell_type": "code",
      "execution_count": 4,
      "metadata": {
        "id": "es4kM6panjNB"
      },
      "outputs": [],
      "source": [
        "class Account:\n",
        "    def __init__(self, account_number, holder_name):\n",
        "        self.account_number = account_number\n",
        "        self.holder_name = holder_name\n",
        "        self.balance = 0\n",
        "\n",
        "    def deposit(self, total_money):\n",
        "      if total_money > 0:\n",
        "            self.balance += total_money\n",
        "      else:\n",
        "            raise ValueError('The deposit balance must be positive')\n",
        "\n",
        "    def withdraw(self, total_money):\n",
        "        if total_money > self.balance:\n",
        "            raise ValueError('Not enough money')\n",
        "        elif total_money <= 0:\n",
        "            raise ValueError('The withdrawal balance must be positive')\n",
        "        else:\n",
        "            self.balance -= total_money\n",
        "\n",
        "    def __str__(self):\n",
        "      raise NotImplementedError('String representation abstract method')\n"
      ]
    },
    {
      "cell_type": "markdown",
      "metadata": {
        "id": "4FjqIBbCnqh3"
      },
      "source": [
        "### Task 2\n",
        "\n",
        "Derive a `CurrentAccount` subclass from the `Account` base class and provide its own implementation for the `__str__` method. The text representation should mention the type of account, account number, and remaining balance."
      ]
    },
    {
      "cell_type": "code",
      "execution_count": 11,
      "metadata": {
        "id": "VNhS9FjCr-_k",
        "colab": {
          "base_uri": "https://localhost:8080/"
        },
        "outputId": "ea64b06f-01ce-4c41-a860-cbaa33dff6e5"
      },
      "outputs": [
        {
          "output_type": "stream",
          "name": "stdout",
          "text": [
            "Current Account - Number: 00112277, Balance: 100500\n"
          ]
        }
      ],
      "source": [
        "class CurrentAccount(Account):\n",
        "    def __str__(self):\n",
        "        return f'Current Account - Number: {self.account_number}, Balance: {self.balance}'\n",
        "new_account = CurrentAccount('00112277', 'Dab Balan') # Create an object of class\n",
        "new_account.deposit(100500) #money on Account\n",
        "print(new_account)"
      ]
    },
    {
      "cell_type": "markdown",
      "metadata": {
        "id": "h-CdQzoOtjy6"
      },
      "source": [
        "### Task 3\n",
        "\n",
        "Derive a `SavingsAccount` subclass from the `Account` base class and provide its implementation for the `__str__` method. When initializing objects of this class, the caller must provide the `interest_rate` parameter.\n",
        "\n",
        " The text representation should mention the type of account, interest rate, account number, and remaining balance.\n",
        "\n",
        "Provide additional method `add_interest` that adds interest based on `interest_rate`:\n",
        "$$new\\_balance = old\\_balance + old\\_balance * interest\\_rate$$"
      ]
    },
    {
      "cell_type": "code",
      "execution_count": 15,
      "metadata": {
        "id": "akQXzV_vtweO",
        "colab": {
          "base_uri": "https://localhost:8080/"
        },
        "outputId": "2989f9dc-1091-4dff-8b37-b70457efe921"
      },
      "outputs": [
        {
          "output_type": "stream",
          "name": "stdout",
          "text": [
            "Savings Account - Number: 555777, Balance: 1150.0, Interest Rate: 15.0%\n"
          ]
        }
      ],
      "source": [
        "class SavingsAccount(Account):\n",
        "    def __init__(self, account_number, holder_name, interest_rate):\n",
        "        super().__init__(account_number, holder_name)  #Call the base class initialiser\n",
        "        self.interest_rate = interest_rate  #add attribute interest_rate\n",
        "    def __str__(self):\n",
        "        return f'Savings Account - Number: {self.account_number}, Balance: {self.balance}, Interest Rate: {self.interest_rate * 100}%'\n",
        "    def add_interest(self):\n",
        "        self.balance += self.balance * self.interest_rate  #add interest rates to balance\n",
        "\n",
        "savings = SavingsAccount('555777', 'Dan Balan', 0.15)\n",
        "savings.deposit(1000) #add money to balance\n",
        "savings.add_interest() #add interest rates to balance\n",
        "print(savings)"
      ]
    },
    {
      "cell_type": "markdown",
      "metadata": {
        "id": "724_WyJry8i9"
      },
      "source": [
        "### Task 4\n",
        "\n",
        "Create an array with different accounts, add/withdraw money from some of them, iterate over the array, and print the text representation of each."
      ]
    },
    {
      "cell_type": "code",
      "execution_count": 17,
      "metadata": {
        "id": "BDZA3L25zZEo",
        "colab": {
          "base_uri": "https://localhost:8080/"
        },
        "outputId": "d0793571-f00b-4895-a09f-163a59697ad7"
      },
      "outputs": [
        {
          "output_type": "stream",
          "name": "stdout",
          "text": [
            "Current Account - Number: 111111, Balance: 100\n",
            "Current Account - Number: 222222, Balance: 100\n",
            "Savings Account - Number: 333333, Balance: 1110.0, Interest Rate: 11.0%\n",
            "Savings Account - Number: 444444, Balance: 2240.0, Interest Rate: 12.0%\n"
          ]
        }
      ],
      "source": [
        "accounts = [] #a list for saving invoices\n",
        "\n",
        "#add accounts of different types\n",
        "current_account1 = CurrentAccount('111111', 'Anna')\n",
        "current_account2 = CurrentAccount('222222', 'Alica')\n",
        "savings_account1 = SavingsAccount('333333', 'Aria', 0.11)\n",
        "savings_account2 = SavingsAccount('444444', 'Akia', 0.12)\n",
        "\n",
        "#array\n",
        "accounts.append(current_account1)\n",
        "accounts.append(current_account2)\n",
        "accounts.append(savings_account1)\n",
        "accounts.append(savings_account2)\n",
        "\n",
        "current_account1.deposit(100)\n",
        "current_account2.deposit(200)\n",
        "savings_account1.deposit(1000)\n",
        "savings_account2.deposit(2000)\n",
        "\n",
        "savings_account1.add_interest()\n",
        "savings_account2.add_interest()\n",
        "\n",
        "current_account2.withdraw(100) #removes 100 units from its balance\n",
        "\n",
        "for account in accounts:\n",
        "    print(account)"
      ]
    }
  ],
  "metadata": {
    "colab": {
      "provenance": [],
      "toc_visible": true,
      "include_colab_link": true
    },
    "kernelspec": {
      "display_name": "Python 3",
      "name": "python3"
    },
    "language_info": {
      "name": "python"
    }
  },
  "nbformat": 4,
  "nbformat_minor": 0
}