{
  "cells": [
    {
      "cell_type": "markdown",
      "metadata": {
        "id": "view-in-github",
        "colab_type": "text"
      },
      "source": [
        "<a href=\"https://colab.research.google.com/github/KaterynaPR/KateRul_assignment/blob/main/Kate_Rul_8_1_assigment.ipynb\" target=\"_parent\"><img src=\"https://colab.research.google.com/assets/colab-badge.svg\" alt=\"Open In Colab\"/></a>"
      ]
    },
    {
      "cell_type": "markdown",
      "metadata": {
        "id": "2_R_Ya7UhcB8"
      },
      "source": [
        "# Assignment 8.1\n",
        "\n",
        "> Replace all TODOs with your code.\n",
        ">\n",
        "> Do not change any other code and do not add/remove cells!"
      ]
    },
    {
      "cell_type": "markdown",
      "metadata": {
        "id": "N1SWwMSshfVz"
      },
      "source": [
        "## Classes"
      ]
    },
    {
      "cell_type": "markdown",
      "metadata": {
        "id": "OY8NxJ-CiePg"
      },
      "source": [
        "### Task 1\n",
        "\n",
        "Define a Python class named `Interval` with the following specifications:\n",
        "\n",
        "1. The class should have a constructor (\\_\\_init__) that takes two parameters, start and end, and initializes the interval with these values.\n",
        "2. Ensure that both start and end are numeric (either integers or floats).\n",
        "3. Ensure that the start value is less than or equal to the end value.\n",
        "4. Provide a \\_\\_str__ method to return a string representation of the interval in the format \"[start, end]\"."
      ]
    },
    {
      "cell_type": "code",
      "execution_count": 1,
      "metadata": {
        "id": "VBFmFWDXjQPT",
        "colab": {
          "base_uri": "https://localhost:8080/"
        },
        "outputId": "e3e497f4-acee-435d-bb19-f6f076fa17b4"
      },
      "outputs": [
        {
          "output_type": "stream",
          "name": "stdout",
          "text": [
            "[1, 5]\n"
          ]
        }
      ],
      "source": [
        "class Interval:\n",
        "    def __init__(self, start, end):\n",
        "        if not (isinstance(start, (int, float)) and isinstance(end, (int, float))): #Check start and end are numeric values\n",
        "            raise TypeError('Parametrs must be numeric')\n",
        "        if start > end: #Check start must be <= end\n",
        "            raise ValueError('Value start must be <= end.')\n",
        "        self.start = start\n",
        "        self.end = end\n",
        "\n",
        "    def __str__(self):\n",
        "        return f\"[{self.start}, {self.end}]\" # Return a string value for the interval\n",
        "\n",
        "interval = Interval(1, 5)\n",
        "print(interval) # [1, 5]"
      ]
    },
    {
      "cell_type": "markdown",
      "metadata": {
        "id": "pJ72CYiylhIY"
      },
      "source": [
        "### Task 2\n",
        "\n",
        "Expand the Interval class by adding a method named `is_overlapping` that checks whether the current interval overlaps with another interval. The method should take another Interval object as a parameter and return `True` if there is an overlap and `False` otherwise."
      ]
    },
    {
      "cell_type": "code",
      "execution_count": 2,
      "metadata": {
        "id": "7t64cfMdl3qe",
        "colab": {
          "base_uri": "https://localhost:8080/"
        },
        "outputId": "33ad8345-f752-4f92-c1d9-17a0c8e94821"
      },
      "outputs": [
        {
          "output_type": "stream",
          "name": "stdout",
          "text": [
            "Do intervals overlap? True\n"
          ]
        }
      ],
      "source": [
        "class Interval:\n",
        "    def __init__(self, start, end):\n",
        "        if not (isinstance(start, (int, float)) and isinstance(end, (int, float))): #Check start and end are numeric values\n",
        "            raise TypeError('Parametrs must be numeric')\n",
        "        if start > end: #Check start must be <= end\n",
        "            raise ValueError('Value start must be <= end.')\n",
        "        self.start = start\n",
        "        self.end = end\n",
        "\n",
        "    def __str__(self):\n",
        "        return f\"[{self.start}, {self.end}]\" # Return a string value for the interval\n",
        "\n",
        "    def is_overlapping(self, other_interval):\n",
        "        return self.end >= other_interval.start and self.start <= other_interval.end #Check if the intervals overlap\n",
        "\n",
        "interval1 = Interval(1, 5)\n",
        "interval2 = Interval(3, 8)\n",
        "\n",
        "overlap_result = interval1.is_overlapping(interval2)\n",
        "print(\"Do intervals overlap?\", overlap_result) # Do intervals overlap? True"
      ]
    },
    {
      "cell_type": "markdown",
      "metadata": {
        "id": "aelqtEfkni2N"
      },
      "source": [
        "### Task 3\n",
        "\n",
        "Expand the `Interval` class by adding a **static** method named `intersection_static` that calculates the intersection of two overlapping intervals. The static method should take two `Interval` objects as parameters and return a new `Interval` representing the intersection if there is one.\n",
        "\n",
        "The method should return `None` if the intervals do not overlap."
      ]
    },
    {
      "cell_type": "code",
      "execution_count": 5,
      "metadata": {
        "id": "E6DNMmTRoyNa",
        "colab": {
          "base_uri": "https://localhost:8080/"
        },
        "outputId": "45072c36-93ab-495d-c690-827292570bb9"
      },
      "outputs": [
        {
          "output_type": "stream",
          "name": "stdout",
          "text": [
            "Intersection result (static method): [3, 5]\n"
          ]
        }
      ],
      "source": [
        "class Interval:\n",
        "    def __init__(self, start, end):\n",
        "        if not (isinstance(start, (int, float)) and isinstance(end, (int, float))): #Check start and end are numeric values\n",
        "            raise TypeError('Parametrs must be numeric')\n",
        "        if start > end: #Check start must be <= end\n",
        "            raise ValueError('Value start must be <= end.')\n",
        "        self.start = start\n",
        "        self.end = end\n",
        "    def __str__(self):\n",
        "        return f\"[{self.start}, {self.end}]\" # Return a string value for the interval\n",
        "\n",
        "    def is_overlapping(self, other_interval):\n",
        "        return self.end >= other_interval.start and self.start <= other_interval.end\n",
        "\n",
        "    @staticmethod\n",
        "    def intersection_static(interval1, interval2): # Check if the intervals overlap\n",
        "        if not interval1.is_overlapping(interval2):\n",
        "            return None\n",
        "\n",
        "        new_start = max(interval1.start, interval2.start) #Calculate the borders of the intersection\n",
        "        new_end = min(interval1.end, interval2.end)\n",
        "\n",
        "        return Interval(new_start, new_end)  #Return a new interval as a result of intersection\n",
        "\n",
        "interval1 = Interval(1, 5)\n",
        "interval2 = Interval(3, 8)\n",
        "\n",
        "intersection_result_static = Interval.intersection_static(interval1, interval2)\n",
        "print(\"Intersection result (static method):\", intersection_result_static) # Intersection result (static method): [3, 5]"
      ]
    },
    {
      "cell_type": "markdown",
      "metadata": {
        "id": "xGh7oQHFtsSl"
      },
      "source": [
        "### Task 4\n",
        "\n",
        "Expand the `Interval` class by overloading a math operator \"&\" to calculate the intersection of two overlapping intervals. Define the logic for the intersection using the method from the previous task."
      ]
    },
    {
      "cell_type": "code",
      "execution_count": 6,
      "metadata": {
        "id": "3f3CiUlGu1cq",
        "colab": {
          "base_uri": "https://localhost:8080/"
        },
        "outputId": "d25e9e80-0219-4047-cdc7-3ba4494e5e9e"
      },
      "outputs": [
        {
          "output_type": "stream",
          "name": "stdout",
          "text": [
            "Intersection result: [3, 5]\n"
          ]
        }
      ],
      "source": [
        "class Interval:\n",
        "    def __init__(self, start, end):\n",
        "        if not (isinstance(start, (int, float)) and isinstance(end, (int, float))): #Check start and end are numeric values\n",
        "            raise TypeError('Parametrs must be numeric')\n",
        "        if start > end: #Check start must be <= end\n",
        "            raise ValueError('Value start must be <= end.')\n",
        "        self.start = start\n",
        "        self.end = end\n",
        "    def __str__(self):\n",
        "        return f\"[{self.start}, {self.end}]\" #Return a string value for the interval\n",
        "\n",
        "    def is_overlapping(self, other_interval):\n",
        "        return self.end >= other_interval.start and self.start <= other_interval.end\n",
        "\n",
        "    @staticmethod\n",
        "    def intersection_static(interval1, interval2): #Check if the intervals overlap\n",
        "        if not interval1.is_overlapping(interval2):\n",
        "            return None\n",
        "        new_start = max(interval1.start, interval2.start) #Calculate the borders of the intersection\n",
        "        new_end = min(interval1.end, interval2.end)\n",
        "\n",
        "        return Interval(new_start, new_end)  #Return a new interval as a result of intersection\n",
        "\n",
        "    def __and__(self, other_interval): #use the same logic as in the static method intersection_static\n",
        "        return Interval.intersection_static(self, other_interval)\n",
        "\n",
        "\n",
        "interval1 = Interval(1, 5)\n",
        "interval2 = Interval(3, 8)\n",
        "\n",
        "intersection_result = interval1 & interval2\n",
        "print(\"Intersection result:\", intersection_result) # Intersection result: [3, 5]"
      ]
    },
    {
      "cell_type": "markdown",
      "metadata": {
        "id": "51BGij2Tvoka"
      },
      "source": [
        "### Task 5\n",
        "\n",
        "Expand the `Interval` class by adding a static method named `union_static` that calculates the union of two overlapping intervals. The static method should take two Interval objects as parameters and return a new Interval representing the union if there is one.\n",
        "\n",
        "The method should return `None` if the intervals do not overlap."
      ]
    },
    {
      "cell_type": "code",
      "execution_count": 7,
      "metadata": {
        "id": "Xnm1CbK8v2v1",
        "colab": {
          "base_uri": "https://localhost:8080/"
        },
        "outputId": "b1cef811-2de2-4323-803a-4032b8c3bb46"
      },
      "outputs": [
        {
          "output_type": "stream",
          "name": "stdout",
          "text": [
            "Union Result (Static method): [1, 8]\n"
          ]
        }
      ],
      "source": [
        "class Interval:\n",
        "    def __init__(self, start, end):\n",
        "        if not (isinstance(start, (int, float)) and isinstance(end, (int, float))): #Check start and end are numeric values\n",
        "            raise TypeError('Parametrs must be numeric')\n",
        "        if start > end: #Check start must be <= end\n",
        "            raise ValueError('Value start must be <= end.')\n",
        "        self.start = start\n",
        "        self.end = end\n",
        "    def __str__(self):\n",
        "        return f\"[{self.start}, {self.end}]\" #Return a string value for the interval\n",
        "\n",
        "    def is_overlapping(self, other_interval):\n",
        "        return self.end >= other_interval.start and self.start <= other_interval.end\n",
        "\n",
        "    @staticmethod\n",
        "    def intersection_static(interval1, interval2): #Check if the intervals overlap\n",
        "        if not interval1.is_overlapping(interval2):\n",
        "            return None\n",
        "        new_start = max(interval1.start, interval2.start) #Calculate the borders of the intersection\n",
        "        new_end = min(interval1.end, interval2.end)\n",
        "\n",
        "        return Interval(new_start, new_end)  #Return a new interval as a result of intersection\n",
        "\n",
        "    @staticmethod\n",
        "    def union_static(interval1, interval2): #Check if the intervals overlap\n",
        "        if not interval1.is_overlapping(interval2):\n",
        "            return None\n",
        "        new_start = min(interval1.start, interval2.start) #Calculate the borders of the intersection\n",
        "        new_end = max(interval1.end, interval2.end)\n",
        "        return Interval(new_start, new_end) # Return a new interval as a result of the join\n",
        "\n",
        "interval1 = Interval(1, 5)\n",
        "interval2 = Interval(3, 8)\n",
        "\n",
        "union_result_static = Interval.union_static(interval1, interval2)\n",
        "print(\"Union Result (Static method):\", union_result_static) # Union Result (Static method): [1, 8]"
      ]
    },
    {
      "cell_type": "markdown",
      "metadata": {
        "id": "5yGYlKjCwbzr"
      },
      "source": [
        "### Task 6\n",
        "\n",
        "Expand the `Interval` class by overloading a math operator \"|\" to calculate the union  of two overlapping intervals. Define the logic for the union using the method from the previous task."
      ]
    },
    {
      "cell_type": "code",
      "execution_count": 8,
      "metadata": {
        "id": "xjCgPAy5wu1Z",
        "colab": {
          "base_uri": "https://localhost:8080/"
        },
        "outputId": "c7403560-f041-4800-f0f3-1c8fa6c01a43"
      },
      "outputs": [
        {
          "output_type": "stream",
          "name": "stdout",
          "text": [
            "Union Result: [1, 8]\n"
          ]
        }
      ],
      "source": [
        "class Interval:\n",
        "    def __init__(self, start, end):\n",
        "        if not (isinstance(start, (int, float)) and isinstance(end, (int, float))): #Check start and end are numeric values\n",
        "            raise TypeError('Parametrs must be numeric')\n",
        "        if start > end: #Check start must be <= end\n",
        "            raise ValueError('Value start must be <= end.')\n",
        "        self.start = start\n",
        "        self.end = end\n",
        "    def __str__(self):\n",
        "        return f\"[{self.start}, {self.end}]\" #Return a string value for the interval\n",
        "\n",
        "    def is_overlapping(self, other_interval):\n",
        "        return self.end >= other_interval.start and self.start <= other_interval.end\n",
        "\n",
        "    @staticmethod\n",
        "    def intersection_static(interval1, interval2): #Check if the intervals overlap\n",
        "        if not interval1.is_overlapping(interval2):\n",
        "            return None\n",
        "        new_start = max(interval1.start, interval2.start) #Calculate the borders of the intersection\n",
        "        new_end = min(interval1.end, interval2.end)\n",
        "\n",
        "        return Interval(new_start, new_end)  #Return a new interval as a result of intersection\n",
        "\n",
        "    @staticmethod\n",
        "    def union_static(interval1, interval2): #Check if the intervals overlap\n",
        "        if not interval1.is_overlapping(interval2):\n",
        "            return None\n",
        "        new_start = min(interval1.start, interval2.start) #Calculate the borders of the intersection\n",
        "        new_end = max(interval1.end, interval2.end)\n",
        "        return Interval(new_start, new_end) # Return a new interval as a result of the join\n",
        "\n",
        "    def __or__(self, other_interval): # Use the same logic as in the static method union_static\n",
        "        return Interval.union_static(self, other_interval)\n",
        "\n",
        "\n",
        "interval1 = Interval(1, 5)\n",
        "interval2 = Interval(3, 8)\n",
        "\n",
        "union_result = interval1 | interval2\n",
        "print(\"Union Result:\", union_result) # Union Result: [1, 8]"
      ]
    },
    {
      "cell_type": "markdown",
      "metadata": {
        "id": "N-hiSBEK0fbz"
      },
      "source": [
        "### Task 7 (optional)\n",
        "\n",
        "Expand the `Interval` class by overloading the \"-\" operator to calculate the difference between two intervals. The method should return a new `Interval` representing the portion of the first interval that is not in the second."
      ]
    },
    {
      "cell_type": "code",
      "execution_count": 9,
      "metadata": {
        "id": "YZ5AqAXr002L",
        "colab": {
          "base_uri": "https://localhost:8080/"
        },
        "outputId": "ae7cbb39-948d-4862-baf1-35016403f617"
      },
      "outputs": [
        {
          "output_type": "stream",
          "name": "stdout",
          "text": [
            "Difference Result: [1, 2]\n",
            "Difference Result: [6, 8]\n"
          ]
        }
      ],
      "source": [
        "class Interval:\n",
        "    def __init__(self, start, end):\n",
        "        if not (isinstance(start, (int, float)) and isinstance(end, (int, float))): #Check start and end are numeric values\n",
        "            raise TypeError('Parametrs must be numeric')\n",
        "        if start > end: #Check start must be <= end\n",
        "            raise ValueError('Value start must be <= end.')\n",
        "        self.start = start\n",
        "        self.end = end\n",
        "    def __str__(self):\n",
        "        return f\"[{self.start}, {self.end}]\" #Return a string value for the interval\n",
        "\n",
        "    def is_overlapping(self, other_interval):\n",
        "        return self.end >= other_interval.start and self.start <= other_interval.end\n",
        "\n",
        "    @staticmethod\n",
        "    def intersection_static(interval1, interval2): #Check if the intervals overlap\n",
        "        if not interval1.is_overlapping(interval2):\n",
        "            return None\n",
        "        new_start = max(interval1.start, interval2.start) #Calculate the borders of the intersection\n",
        "        new_end = min(interval1.end, interval2.end)\n",
        "\n",
        "        return Interval(new_start, new_end)  #Return a new interval as a result of intersection\n",
        "\n",
        "    @staticmethod\n",
        "    def union_static(interval1, interval2): #Check if the intervals overlap\n",
        "        if not interval1.is_overlapping(interval2):\n",
        "            return None\n",
        "        new_start = min(interval1.start, interval2.start) #Calculate the borders of the intersection\n",
        "        new_end = max(interval1.end, interval2.end)\n",
        "        return Interval(new_start, new_end) #Return a new interval as a result of the join\n",
        "\n",
        "    def __or__(self, other_interval): #Use the same logic as in the static method union_static\n",
        "        return Interval.union_static(self, other_interval)\n",
        "\n",
        "    def __sub__(self, other_interval):\n",
        "        if not self.is_overlapping(other_interval): #If the intervals do not overlap, return the first interval\n",
        "            return self\n",
        "        if other_interval.start <= self.start and other_interval.end >= self.end:   #If the second interval completely covers the first, return None\n",
        "            return None\n",
        "\n",
        "        if other_interval.start <= self.start < other_interval.end < self.end: #If the beginning of the first interval overlaps\n",
        "            return Interval(other_interval.end + 1, self.end)\n",
        "\n",
        "        if self.start < other_interval.start < self.end <= other_interval.end: #If the end of the first interval overlaps\n",
        "            return Interval(self.start, other_interval.start - 1)\n",
        "\n",
        "        if self.start < other_interval.start and self.end > other_interval.end:  #If the second interval overlaps the middle of the first interval\n",
        "            return Interval(self.start, other_interval.start - 1)\n",
        "\n",
        "\n",
        "interval1 = Interval(1, 5)\n",
        "interval2 = Interval(3, 8)\n",
        "\n",
        "print(\"Difference Result:\", interval1 - interval2) # Union Result: [1, 2]\n",
        "print(\"Difference Result:\", interval2 - interval1) # Union Result: [6, 8]"
      ]
    }
  ],
  "metadata": {
    "colab": {
      "provenance": [],
      "toc_visible": true,
      "include_colab_link": true
    },
    "kernelspec": {
      "display_name": "Python 3",
      "name": "python3"
    },
    "language_info": {
      "name": "python"
    }
  },
  "nbformat": 4,
  "nbformat_minor": 0
}